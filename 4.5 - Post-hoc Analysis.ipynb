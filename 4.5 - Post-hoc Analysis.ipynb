{
 "cells": [
  {
   "cell_type": "markdown",
   "metadata": {},
   "source": [
    "# Post-hoc Analysis: Custom Learning Strategy"
   ]
  },
  {
   "cell_type": "markdown",
   "metadata": {},
   "source": [
    "## Preparations"
   ]
  },
  {
   "cell_type": "code",
   "execution_count": 1,
   "metadata": {
    "colab": {
     "base_uri": "https://localhost:8080/"
    },
    "id": "YHmkHP3HYZZE",
    "outputId": "5f8c7824-21eb-4e32-8c6f-9e25ad72e8bc"
   },
   "outputs": [],
   "source": [
    "import pandas as pd\n",
    "import numpy as np\n",
    "import xgboost as xgb\n",
    "import datetime\n",
    "import random\n",
    "import pickle\n",
    "from sklearn.metrics import mean_squared_error\n",
    "import openpyxl\n",
    "from pathlib import Path\n",
    "from matplotlib import pyplot as plt\n",
    "from matplotlib import cm\n",
    "from matplotlib.colors import LinearSegmentedColormap\n",
    "import seaborn as sns\n",
    "import shap\n",
    "\n",
    "import warnings\n",
    "warnings.filterwarnings('ignore')"
   ]
  },
  {
   "cell_type": "code",
   "execution_count": 2,
   "metadata": {
    "id": "X_pyxcecYZZI"
   },
   "outputs": [],
   "source": [
    "path = ''\n",
    "df_top20 = pd.read_csv(path+'Data/df_top20.csv')\n",
    "df_complex_complete = pd.DataFrame()\n",
    "\n",
    "for i in df_top20.groupby('PULocationID'):\n",
    "    A = i[1]\n",
    "\n",
    "    df_complex = pd.concat([A['datetime'], A['PULocationID'], A['PULocationID'].astype(str)+'-'+A['pickup_day_of_week'].astype(str), np.cos((A['pickup_hour']*2*np.pi)/24), \n",
    "           np.sin((A['pickup_hour']*2*np.pi)/24), np.cos((A['pickup_hour']*2*np.pi)/12),  np.sin((A['pickup_hour']*2*np.pi)/12), A['count'], \n",
    "           A['count'].shift(1), A['count'].shift(2),A['count'].shift(3), A['count'].shift(4),A['count'].shift(5), A['count'].shift(6), \n",
    "           A['count'].shift(7), A['count'].shift(8), A['count'].shift(9), A['count'].shift(10),A['count'].shift(11), A['count'].shift(12), \n",
    "           A['count'].shift(13), A['count'].shift(14), A['count'].shift(15), A['count'].shift(16), A['count'].shift(17), A['count'].shift(18), \n",
    "           A['count'].shift(19), A['count'].shift(20), A['count'].shift(21), A['count'].shift(22),   A['count'].shift(23), A['count'].shift(24), \n",
    "           A['count'].shift(168), A['count'].shift(336), A['count'].shift(504), A['count'].shift(672)], axis = 1)\n",
    "\n",
    "    df_complex.columns = ['datetime', 'PULocationID', 'categorical', 'cos_hour', 'sin_hour', 'cos_month', 'sin_month', 'y', 'y-1', 'y-2', 'y-3', 'y-4',\n",
    "                      'y-5', 'y-6', 'y-7', 'y-8', 'y-9', 'y-10', 'y-11', 'y-12','y-13', 'y-14', 'y-15', 'y-16','y-17', 'y-18', 'y-19', 'y-20',\n",
    "                      'y-21', 'y-22', 'y-23', 'y-24', 'y-1w', 'y-2w', 'y-3w', 'y-4w']\n",
    "    df_complex_complete = df_complex_complete.append(df_complex, ignore_index = True) \n",
    "\n",
    "df_final = df_complex_complete.join(pd.get_dummies(df_complex_complete['categorical'])).dropna()\n",
    "df_final.sort_values(['PULocationID', 'datetime'], inplace = True)"
   ]
  },
  {
   "cell_type": "code",
   "execution_count": 3,
   "metadata": {
    "id": "3bZbyuW4YZZK"
   },
   "outputs": [],
   "source": [
    "# Metrics\n",
    "def smape(actual, forecast):\n",
    "    actual = np.array(actual)\n",
    "    forecast = np.array(forecast)\n",
    "    return 1/len(actual) * np.sum(2 * np.abs(forecast-actual) / (np.abs(actual) + np.abs(forecast))*100)\n",
    "\n",
    "def rmse(actual, forecast):\n",
    "    actual = np.array(actual)\n",
    "    forecast = np.array(forecast)\n",
    "    return(np.sqrt(mean_squared_error(actual,forecast)))"
   ]
  },
  {
   "cell_type": "code",
   "execution_count": 4,
   "metadata": {
    "id": "J6maSfv-YZZP"
   },
   "outputs": [],
   "source": [
    "# XGBoost\n",
    "params = [0.06759574377750831,82,8,3.247253370691017, 0.04770505824520567,0.6854091260991332, 0.8344206263318037]"
   ]
  },
  {
   "cell_type": "code",
   "execution_count": 5,
   "metadata": {
    "id": "7lrWo9j2q2S-"
   },
   "outputs": [],
   "source": [
    "# prediction models\n",
    "def naive(X):\n",
    "    return X['y-1']\n",
    "\n",
    "def xgboost(X):\n",
    "    return xgb_model.predict(X.values.reshape(1,172), validate_features = False)[0]"
   ]
  },
  {
   "cell_type": "code",
   "execution_count": 6,
   "metadata": {
    "id": "bRFAxapFq2S_"
   },
   "outputs": [],
   "source": [
    "# MAB Procedure\n",
    "class MAB(object):\n",
    "    \"\"\"Base selector\n",
    "    \n",
    "    Args:\n",
    "        models (dict): a dictionary of models from which the selector must choose at every\n",
    "            call to ``select``.\n",
    "        learning_strategy (func): a funct that represents the learning strategy utilized\n",
    "            by the selector at every call to ``select``.\n",
    "    \"\"\"\n",
    "    def __init__(self, models, learning_strategy):\n",
    "        self.models = models\n",
    "        self.ls = learning_strategy\n",
    "        self.scores = dict.fromkeys(models.keys(), [1])\n",
    "        self.history_model = []\n",
    "        self.history_score = []\n",
    "        self.history_pred = []\n",
    "        self.history_y = []\n",
    "        \n",
    "        # change for zone specifity\n",
    "        self.zone = [9999]\n",
    "\n",
    "    def select(self, **kwargs):\n",
    "        return max(self.scores, key=lambda i: self.ls([i, self.scores[i], self.history_model], **kwargs))\n",
    "        \n",
    "    def procedure(self, series, **kwargs):\n",
    "        self.zone.append(series.loc['PULocationID'])\n",
    "        X = series.iloc[~series.index.isin(['y', 'datetime', 'PULocationID', 'categorical'])]\n",
    "        y = series['y']\n",
    "        \n",
    "        if self.zone[-1] != self.zone[-2]:\n",
    "            self.scores = dict.fromkeys(models.keys(), [1])\n",
    "        \n",
    "        random_number = random.random()\n",
    "        model = self.select(random_number = random_number, **kwargs)\n",
    "        pred = max(0, self.models[model](X))\n",
    "        percentage_error = np.abs(y-pred)/y\n",
    "        percentage_accur = 1 - percentage_error\n",
    "        self.scores[model] = self.scores[model] + [percentage_accur]\n",
    "        \n",
    "        self.history_model.append(model)\n",
    "        self.history_pred.append(pred)\n",
    "        self.history_score.append(percentage_accur)\n",
    "        self.history_y.append(y)\n",
    "        \n",
    "    def execute(self, df, **kwargs):\n",
    "        df.apply(self.procedure, **kwargs, axis = 1)"
   ]
  },
  {
   "cell_type": "code",
   "execution_count": 7,
   "metadata": {
    "id": "rmqUfmpNFz9b"
   },
   "outputs": [],
   "source": [
    "# Strategies for one of the models only\n",
    "def ls_xgboost(list, random_number):\n",
    "    if list[0] == 'xgb':\n",
    "        return 1\n",
    "    else:\n",
    "        return 0\n",
    "    \n",
    "def ls_naive(list, random_number):\n",
    "    if list[0] == 'naive':\n",
    "        return 1\n",
    "    else:\n",
    "        return 0\n",
    "\n",
    "# learning strategies\n",
    "## Epsilon-greedy\n",
    "def epsg(list, random_number, epsilon = 0.15, epoch_length = 168):\n",
    "    if (random_number <= epsilon):\n",
    "        r = random.random()\n",
    "        return r\n",
    "    \n",
    "    else:\n",
    "        model = list[0]\n",
    "        score_list = list[1]\n",
    "        history_models = list[2]\n",
    "        \n",
    "        epoch = (len(history_models)) % epoch_length\n",
    "        if epoch == 0:\n",
    "            epoch = epoch_length\n",
    "        occurence = history_models[-epoch:].count(model)\n",
    "        epoch_mean = np.mean(score_list[-occurence:])\n",
    "        \n",
    "        return epoch_mean\n",
    "\n",
    "## Upper Confidence Boundary\n",
    "def ucb(list, random_number, alpha = 0.5, sw_length = 168):\n",
    "    model = list[0]\n",
    "    score_list = list[1]\n",
    "    history_models = list[2]\n",
    "\n",
    "    N = max(history_models[-sw_length:].count(model), 1)\n",
    "    average_accuracy = np.mean(score_list[-N:])\n",
    "    v = len(history_models)\n",
    "    \n",
    "    padding = np.sqrt(alpha * np.log(min(v, sw_length)) / N)\n",
    "    return average_accuracy + padding\n",
    "\n",
    "def custom(list, random_number, threshold = -2.7, period = 24):\n",
    "    model = list[0]\n",
    "    score_list = list[1]\n",
    "    history_models = list[2]\n",
    "    count_naive = history_models[-period:].count('naive')\n",
    "    \n",
    "    if len(history_models) == 0:\n",
    "        return 1\n",
    "    \n",
    "    else:\n",
    "        if history_models[-1] == 'xgb':\n",
    "            if model == 'xgb':\n",
    "                if score_list[-1]<= threshold:\n",
    "                    return 0\n",
    "                else:\n",
    "                    return 1\n",
    "            if model == 'naive':\n",
    "                return 0.5\n",
    "\n",
    "        if history_models[-1] == 'naive':\n",
    "            if model == 'naive':\n",
    "                if count_naive == period:\n",
    "                    return 0\n",
    "                else:\n",
    "                    return 1\n",
    "            if model == 'xgb':\n",
    "                if count_naive == period:\n",
    "                    return 1\n",
    "                else:\n",
    "                    return 0"
   ]
  },
  {
   "cell_type": "code",
   "execution_count": 8,
   "metadata": {
    "id": "NcItrKXhqaQR"
   },
   "outputs": [],
   "source": [
    "# Diabold-Mariano Test\n",
    "# Author   : John Tsang\n",
    "# Date     : December 7th, 2017\n",
    "# Purpose  : Implement the Diebold-Mariano Test (DM test) to compare \n",
    "#            forecast accuracy\n",
    "# Input    : 1) actual_lst: the list of actual values\n",
    "#            2) pred1_lst : the first list of predicted values\n",
    "#            3) pred2_lst : the second list of predicted values\n",
    "#            4) h         : the number of stpes ahead\n",
    "#            5) crit      : a string specifying the criterion \n",
    "#                             i)  MSE : the mean squared error\n",
    "#                            ii)  MAD : the mean absolute deviation\n",
    "#                           iii) MAPE : the mean absolute percentage error\n",
    "#                            iv) poly : use power function to weigh the errors\n",
    "#            6) poly      : the power for crit power \n",
    "#                           (it is only meaningful when crit is \"poly\")\n",
    "# Condition: 1) length of actual_lst, pred1_lst and pred2_lst is equal\n",
    "#            2) h must be an integer and it must be greater than 0 and less than \n",
    "#               the length of actual_lst.\n",
    "#            3) crit must take the 4 values specified in Input\n",
    "#            4) Each value of actual_lst, pred1_lst and pred2_lst must\n",
    "#               be numerical values. Missing values will not be accepted.\n",
    "#            5) power must be a numerical value.\n",
    "# Return   : a named-tuple of 2 elements\n",
    "#            1) p_value : the p-value of the DM test\n",
    "#            2) DM      : the test statistics of the DM test\n",
    "##########################################################\n",
    "# References:\n",
    "#\n",
    "# Harvey, D., Leybourne, S., & Newbold, P. (1997). Testing the equality of \n",
    "#   prediction mean squared errors. International Journal of forecasting, \n",
    "#   13(2), 281-291.\n",
    "#\n",
    "# Diebold, F. X. and Mariano, R. S. (1995), Comparing predictive accuracy, \n",
    "#   Journal of business & economic statistics 13(3), 253-264.\n",
    "#\n",
    "##########################################################\n",
    "def dm_test(actual_lst, pred1_lst, pred2_lst, h = 1, crit=\"MSE\", power = 2):\n",
    "    # Routine for checking errors\n",
    "    def error_check():\n",
    "        rt = 0\n",
    "        msg = \"\"\n",
    "        # Check if h is an integer\n",
    "        if (not isinstance(h, int)):\n",
    "            rt = -1\n",
    "            msg = \"The type of the number of steps ahead (h) is not an integer.\"\n",
    "            return (rt,msg)\n",
    "        # Check the range of h\n",
    "        if (h < 1):\n",
    "            rt = -1\n",
    "            msg = \"The number of steps ahead (h) is not large enough.\"\n",
    "            return (rt,msg)\n",
    "        len_act = len(actual_lst)\n",
    "        len_p1  = len(pred1_lst)\n",
    "        len_p2  = len(pred2_lst)\n",
    "        # Check if lengths of actual values and predicted values are equal\n",
    "        if (len_act != len_p1 or len_p1 != len_p2 or len_act != len_p2):\n",
    "            rt = -1\n",
    "            msg = \"Lengths of actual_lst, pred1_lst and pred2_lst do not match.\"\n",
    "            return (rt,msg)\n",
    "        # Check range of h\n",
    "        if (h >= len_act):\n",
    "            rt = -1\n",
    "            msg = \"The number of steps ahead is too large.\"\n",
    "            return (rt,msg)\n",
    "        # Check if criterion supported\n",
    "        if (crit != \"MSE\" and crit != \"MAPE\" and crit != \"MAD\" and crit != \"poly\"):\n",
    "            rt = -1\n",
    "            msg = \"The criterion is not supported.\"\n",
    "            return (rt,msg)  \n",
    "        # Check if every value of the input lists are numerical values\n",
    "        from re import compile as re_compile\n",
    "        comp = re_compile(\"^\\d+?\\.\\d+?$\")  \n",
    "        def compiled_regex(s):\n",
    "            \"\"\" Returns True is string is a number. \"\"\"\n",
    "            if comp.match(s) is None:\n",
    "                return s.isdigit()\n",
    "            return True\n",
    "        for actual, pred1, pred2 in zip(actual_lst, pred1_lst, pred2_lst):\n",
    "            is_actual_ok = compiled_regex(str(abs(actual)))\n",
    "            is_pred1_ok = compiled_regex(str(abs(pred1)))\n",
    "            is_pred2_ok = compiled_regex(str(abs(pred2)))\n",
    "            if (not (is_actual_ok and is_pred1_ok and is_pred2_ok)):  \n",
    "                msg = \"An element in the actual_lst, pred1_lst or pred2_lst is not numeric.\"\n",
    "                rt = -1\n",
    "                return (rt,msg)\n",
    "        return (rt,msg)\n",
    "    \n",
    "    # Error check\n",
    "    error_code = error_check()\n",
    "    # Raise error if cannot pass error check\n",
    "    if (error_code[0] == -1):\n",
    "        raise SyntaxError(error_code[1])\n",
    "        return\n",
    "    # Import libraries\n",
    "    from scipy.stats import t\n",
    "    import collections\n",
    "    import pandas as pd\n",
    "    import numpy as np\n",
    "    \n",
    "    # Initialise lists\n",
    "    e1_lst = []\n",
    "    e2_lst = []\n",
    "    d_lst  = []\n",
    "    \n",
    "    # convert every value of the lists into real values\n",
    "    actual_lst = pd.Series(actual_lst).apply(lambda x: float(x)).tolist()\n",
    "    pred1_lst = pd.Series(pred1_lst).apply(lambda x: float(x)).tolist()\n",
    "    pred2_lst = pd.Series(pred2_lst).apply(lambda x: float(x)).tolist()\n",
    "    \n",
    "    # Length of lists (as real numbers)\n",
    "    T = float(len(actual_lst))\n",
    "    \n",
    "    # construct d according to crit\n",
    "    if (crit == \"MSE\"):\n",
    "        for actual,p1,p2 in zip(actual_lst,pred1_lst,pred2_lst):\n",
    "            e1_lst.append((actual - p1)**2)\n",
    "            e2_lst.append((actual - p2)**2)\n",
    "        for e1, e2 in zip(e1_lst, e2_lst):\n",
    "            d_lst.append(e1 - e2)\n",
    "    elif (crit == \"MAD\"):\n",
    "        for actual,p1,p2 in zip(actual_lst,pred1_lst,pred2_lst):\n",
    "            e1_lst.append(abs(actual - p1))\n",
    "            e2_lst.append(abs(actual - p2))\n",
    "        for e1, e2 in zip(e1_lst, e2_lst):\n",
    "            d_lst.append(e1 - e2)\n",
    "    elif (crit == \"MAPE\"):\n",
    "        for actual,p1,p2 in zip(actual_lst,pred1_lst,pred2_lst):\n",
    "            e1_lst.append(abs((actual - p1)/actual))\n",
    "            e2_lst.append(abs((actual - p2)/actual))\n",
    "        for e1, e2 in zip(e1_lst, e2_lst):\n",
    "            d_lst.append(e1 - e2)\n",
    "    elif (crit == \"poly\"):\n",
    "        for actual,p1,p2 in zip(actual_lst,pred1_lst,pred2_lst):\n",
    "            e1_lst.append(((actual - p1))**(power))\n",
    "            e2_lst.append(((actual - p2))**(power))\n",
    "        for e1, e2 in zip(e1_lst, e2_lst):\n",
    "            d_lst.append(e1 - e2)    \n",
    "    \n",
    "    # Mean of d        \n",
    "    mean_d = pd.Series(d_lst).mean()\n",
    "    \n",
    "    # Find autocovariance and construct DM test statistics\n",
    "    def autocovariance(Xi, N, k, Xs):\n",
    "        autoCov = 0\n",
    "        T = float(N)\n",
    "        for i in np.arange(0, N-k):\n",
    "              autoCov += ((Xi[i+k])-Xs)*(Xi[i]-Xs)\n",
    "        return (1/(T))*autoCov\n",
    "    gamma = []\n",
    "    for lag in range(0,h):\n",
    "        gamma.append(autocovariance(d_lst,len(d_lst),lag,mean_d)) # 0, 1, 2\n",
    "    V_d = (gamma[0] + 2*sum(gamma[1:]))/T\n",
    "    DM_stat=V_d**(-0.5)*mean_d\n",
    "    harvey_adj=((T+1-2*h+h*(h-1)/T)/T)**(0.5)\n",
    "    DM_stat = harvey_adj*DM_stat\n",
    "    # Find p-value\n",
    "    p_value = 2*t.cdf(-abs(DM_stat), df = T - 1)\n",
    "    \n",
    "    # Construct named tuple for return\n",
    "    dm_return = collections.namedtuple('dm_return', 'DM p_value')\n",
    "    \n",
    "    rt = dm_return(DM = DM_stat, p_value = p_value)\n",
    "    \n",
    "    return rt"
   ]
  },
  {
   "cell_type": "code",
   "execution_count": 9,
   "metadata": {
    "id": "45XRVlcqiF7N"
   },
   "outputs": [],
   "source": [
    "# Custom Colour Map\n",
    "R = np.linspace(0, .5234375)\n",
    "G = np.linspace(0, .734375)\n",
    "B = np.linspace(0, .14453125)\n",
    "x = np.linspace(0, 1)\n",
    "\n",
    "red_list = []\n",
    "green_list = []\n",
    "blue_list = []\n",
    "for i in range(len(R)):\n",
    "    red_list.append((x[i], R[i], R[i]))\n",
    "    green_list.append((x[i], G[i], G[i]))\n",
    "    blue_list.append((x[i], B[i], B[i]))\n",
    "\n",
    "red_tuple = tuple(red_list)\n",
    "green_tuple = tuple(green_list)\n",
    "blue_tuple = tuple(blue_list)\n",
    "\n",
    "cdict = {'red': red_tuple, 'green': green_tuple, 'blue':blue_tuple}\n",
    "cdict = LinearSegmentedColormap('cdict', cdict)\n",
    "\n",
    "R = np.linspace(.5234375, 0)\n",
    "G = np.linspace(.734375, 0)\n",
    "B = np.linspace(.14453125, 0)\n",
    "x = np.linspace(0, 1)\n",
    "\n",
    "red_list = []\n",
    "green_list = []\n",
    "blue_list = []\n",
    "for i in range(len(R)):\n",
    "    red_list.append((x[i], R[i], R[i]))\n",
    "    green_list.append((x[i], G[i], G[i]))\n",
    "    blue_list.append((x[i], B[i], B[i]))\n",
    "\n",
    "red_tuple = tuple(red_list)\n",
    "green_tuple = tuple(green_list)\n",
    "blue_tuple = tuple(blue_list)\n",
    "\n",
    "cdict_r = {'red': red_tuple, 'green': green_tuple, 'blue':blue_tuple}\n",
    "cdict_r = LinearSegmentedColormap('cdict_r', cdict_r)"
   ]
  },
  {
   "cell_type": "code",
   "execution_count": 10,
   "metadata": {},
   "outputs": [],
   "source": [
    "# Parameter Tunning 3D Plot\n",
    "model_history_hurricane = pickle.load(open('Results/model_hurricane.dat', \"rb\"))\n",
    "\n",
    "def PlotTuningResults3D(results, parameter1, parameter2, metric, type = 'narrow'):\n",
    "    if type == 'broad':\n",
    "        epsilons = np.repeat([0.001, 0.01, 0.1], 7)\n",
    "        epochs = np.array([1, 24, 168, 672, 2016, 4032, 8760]*3)\n",
    "\n",
    "        alphas = np.repeat([0.01, 0.1, .5, 1], 7)\n",
    "        sws = np.array([1, 24, 168, 672, 2016, 4032, 8760]*4)\n",
    "        \n",
    "    if type == 'ucb1':\n",
    "        alphas = np.repeat([.9, .93, .95, .97, 1, 1.03, 1.05, 1.07, 1.09], 5)\n",
    "        sws = np.array([8088, 8640, 8736, 8760, 8784]*9)\n",
    "\n",
    "    else:\n",
    "        epsilons = np.repeat([i/1000 for i in range(1, 16)], 16)\n",
    "        epochs = np.array([i for i in range(1, 33, 2)]*15)\n",
    "\n",
    "        alphas = np.repeat([0, 0.2, 0.4, 0.6, 0.8, 1], 5)\n",
    "        sws = np.array([1, 2, 3, 4, 5]*6)\n",
    "        \n",
    "        thresholds = np.repeat([-2.3, -2.5, -2.7, -2.9, -3.1], 32)\n",
    "        periods = np.array([i for i in range(1, 33)]*5)\n",
    "\n",
    "\n",
    "    df = pd.DataFrame([smape(x.history_y,x.history_pred) for x in results])\n",
    "    if parameter1 == 'epsilon':\n",
    "        df[parameter1] = epsilons\n",
    "        df['epoch'] = epochs\n",
    "        df.columns = ['smape', 'epsilon', 'epoch']\n",
    "    if parameter1 == 'alpha':\n",
    "        df[parameter1] = alphas\n",
    "        df[parameter2] = sws\n",
    "        df.columns = ['smape', 'alpha', 'sw']\n",
    "    if parameter1 == 'threshold':\n",
    "        df[parameter1] = thresholds\n",
    "        df[parameter2] = periods\n",
    "        df.columns = ['smape', 'threshold', 'period']\n",
    "    df['mimic_optimal'] = [np.sum(np.array(model_history_hurricane) == np.array(x.history_model))/len(model_history_hurricane)*100 for x in results]\n",
    "    df['rmse'] = [rmse(x.history_y,x.history_pred) for x in results]\n",
    "\n",
    "    m = len(df[parameter1].unique())\n",
    "    n = len(df[parameter2].unique())\n",
    "\n",
    "    X = df[parameter1].to_numpy(dtype = float).reshape([m, n])\n",
    "    Y = df[parameter2].to_numpy().reshape([m, n])\n",
    "    Z = df.pivot_table(index = [parameter1], columns = parameter2, values = metric)\n",
    "    \n",
    "    Z = np.array(Z, dtype = float)\n",
    "    \n",
    "    fig = plt.figure(figsize = (12,8))\n",
    "    ax = fig.gca(projection='3d')\n",
    "\n",
    "    # Plot the surface.\n",
    "    if metric == 'mimic_optimal':\n",
    "        surf = ax.plot_surface(X, Y, Z, cmap=cdict,\n",
    "                       linewidth=0, antialiased=False)\n",
    "    else: \n",
    "            surf = ax.plot_surface(X, Y, Z, cmap=cdict_r,\n",
    "                       linewidth=0, antialiased=False)\n",
    "    \n",
    "    # Add a color bar which maps values to colors.\n",
    "    fig.colorbar(surf, shrink=0.5, aspect=5)\n",
    "    if parameter1 ==  'epsilon':\n",
    "        ax.set_xlabel('Epoch', size = 13)\n",
    "    if parameter1 == 'alpha':\n",
    "        ax.set_xlabel('Alpha', size = 13)\n",
    "    if parameter1 == 'threshold':\n",
    "        ax.set_xlabel('Threshold', size = 13)\n",
    "    if parameter2 == 'sw':\n",
    "        ax.set_ylabel('Sliding Window Size', size = 13)\n",
    "    if parameter2 == 'epoch':\n",
    "        ax.set_ylabel('Epoch length', size = 13)\n",
    "    if parameter2 == 'period':\n",
    "        ax.set_ylabel('Period', size = 13)\n",
    "    if metric == 'smape':\n",
    "        ax.set_zlabel('SMAPE', size = 13)\n",
    "    if metric == 'mimic_optimal':\n",
    "        ax.set_zlabel('% Equal to Optimal Predictions', size = 13)\n",
    "    if metric == 'rmse':\n",
    "        ax.set_zlabel('RMSE', size = 13)\n",
    "    plt.show()\n",
    "\n",
    "    return df.sort_values('smape')"
   ]
  },
  {
   "cell_type": "code",
   "execution_count": 11,
   "metadata": {
    "id": "_gu2Zb922ogm"
   },
   "outputs": [],
   "source": [
    "xgb_only = pickle.load(open(path+\"Results/xgb_only.dat\", \"rb\"))\n",
    "naive_only = pickle.load(open(path+\"Results/naive_only.dat\", \"rb\"))"
   ]
  },
  {
   "cell_type": "code",
   "execution_count": 12,
   "metadata": {
    "id": "KTufnP9KJXaZ"
   },
   "outputs": [],
   "source": [
    "df_test = df_final[(df_final['datetime']>'2010-12-31 23:00:00')]\n",
    "df_test = df_test[['datetime', 'PULocationID', 'categorical', 'y']]\n",
    "df_test['datetime'] = pd.to_datetime(df_test['datetime'])\n",
    "df_test['year'] = pd.to_numeric(df_test['datetime'].dt.strftime('%Y'))\n",
    "df_test['doy'] = pd.to_numeric(df_test['datetime'].dt.strftime('%j'))\n",
    "df_test['woy'] = pd.to_numeric(df_test['datetime'].dt.strftime('%W'))\n",
    "\n",
    "xgb_preds = []\n",
    "naive_preds = []\n",
    "\n",
    "for i in range(len(xgb_only)):\n",
    "    xgb_year_preds = xgb_only[i].history_pred\n",
    "    naive_year_preds = naive_only[i].history_pred\n",
    "    xgb_preds.append(xgb_year_preds)\n",
    "    naive_preds.append(naive_year_preds)\n",
    "\n",
    "df_test.sort_values(['year', 'PULocationID', 'datetime'], inplace = True)\n",
    "df_test['xgb'] = [item for elem in xgb_preds for item in elem]\n",
    "df_test['naive'] = [item for elem in naive_preds for item in elem]"
   ]
  },
  {
   "cell_type": "markdown",
   "metadata": {
    "id": "MqHLrPmdxDpV"
   },
   "source": [
    "## Finetuning Custom Learning Strategy Parameters"
   ]
  },
  {
   "cell_type": "code",
   "execution_count": null,
   "metadata": {},
   "outputs": [],
   "source": [
    "years = range(2011, 2012)\n",
    "results = []\n",
    "periods = [i for i in range(1, 33)]\n",
    "tresholds = [-2.3, -2.5, -2.7, -2.9, -3.1]\n",
    "\n",
    "for j in years:\n",
    "    for p in periods:\n",
    "        for t in tresholds:\n",
    "\n",
    "            df_test_j = df_final[(df_final['datetime']>str(j-1)+'-12-31 23:00:00')&(df_final['datetime']<str(j+1)+'-01-01 00:00:00')]\n",
    "\n",
    "            train_years = str(j-2)[-2:]+str(j-1)[-2:]\n",
    "            name = path+\"Models/train_\"+train_years+\".dat\"\n",
    "            xgb_model = pickle.load(open(name, \"rb\"))  \n",
    "\n",
    "            print(j, ' | Predicting | ',datetime.datetime.now().time())\n",
    "            models = {'xgb':xgboost, 'naive':naive}\n",
    "            selector = MAB(models, custom)\n",
    "            selector.execute(df_test_j, period = p, treshold = t)\n",
    "            results.append(selector)\n",
    "\n",
    "            print(j, epoch_length, t, ' | Finished   | ',datetime.datetime.now().time(), ' | ', smape(selector.history_y,selector.history_pred))      "
   ]
  },
  {
   "cell_type": "code",
   "execution_count": null,
   "metadata": {},
   "outputs": [],
   "source": [
    "pickle.dump(results, open(path+\"Results/custom_grid.dat\", \"wb\"))"
   ]
  },
  {
   "cell_type": "code",
   "execution_count": 13,
   "metadata": {
    "id": "UXSyKWsFxGFl"
   },
   "outputs": [],
   "source": [
    "results_grid_custom = pickle.load(open(path+'Results/custom_grid.dat', \"rb\"))\n",
    "model_history_hurricane = pickle.load(open(path+'Results/model_hurricane.dat', \"rb\"))"
   ]
  },
  {
   "cell_type": "code",
   "execution_count": null,
   "metadata": {},
   "outputs": [],
   "source": [
    "grid_custom_df = PlotTuningResults3D(results_grid_custom, 'threshold', 'period', 'smape')"
   ]
  },
  {
   "cell_type": "code",
   "execution_count": null,
   "metadata": {
    "id": "dpyNi2uaVpy9"
   },
   "outputs": [],
   "source": [
    "grid_custom_df = PlotTuningResults3D(results_grid_custom, 'threshold', 'period', 'rmse')"
   ]
  },
  {
   "cell_type": "code",
   "execution_count": null,
   "metadata": {
    "id": "tHzDhs-7Vr0e"
   },
   "outputs": [],
   "source": [
    "grid_custom_df = PlotTuningResults3D(results_grid_custom, 'threshold', 'period', 'mimic_optimal')"
   ]
  },
  {
   "cell_type": "code",
   "execution_count": null,
   "metadata": {
    "id": "7dL0eGvJVlJf"
   },
   "outputs": [],
   "source": [
    "print(grid_custom_df[['period', 'threshold', 'smape', 'rmse', 'mimic_optimal']].sort_values('smape').head(10).to_latex(index = False, float_format = \"%.3f\"))"
   ]
  },
  {
   "cell_type": "markdown",
   "metadata": {},
   "source": [
    "## Running the Custom Procedure"
   ]
  },
  {
   "cell_type": "code",
   "execution_count": null,
   "metadata": {},
   "outputs": [],
   "source": [
    "years = range(2011, 2021)\n",
    "results = []\n",
    "\n",
    "for j in years:\n",
    "    \n",
    "    df_test_j = df_final[(df_final['datetime']>str(j-1)+'-12-31 23:00:00')&(df_final['datetime']<str(j+1)+'-01-01 00:00:00')]\n",
    "\n",
    "    train_years = str(j-2)[-2:]+str(j-1)[-2:]\n",
    "    name = path+\"Models/train_\"+train_years+\".dat\"\n",
    "    xgb_model = pickle.load(open(name, \"rb\"))  \n",
    "\n",
    "    print(j, ' | Predicting | ',datetime.datetime.now().time())\n",
    "    models = {'xgb':xgboost, 'naive':naive}\n",
    "    selector = MAB(models, custom)\n",
    "    selector.execute(df_test_j, period = 24, treshold = -2.7)\n",
    "    results.append(selector)\n",
    "\n",
    "    print(j, epoch_length, t, ' | Finished   | ',datetime.datetime.now().time(), ' | ', smape(selector.history_y,selector.history_pred))      "
   ]
  },
  {
   "cell_type": "code",
   "execution_count": null,
   "metadata": {},
   "outputs": [],
   "source": [
    "pickle.dump(results, open(path+\"Results/custom_-27_24.dat\", \"wb\"))"
   ]
  },
  {
   "cell_type": "markdown",
   "metadata": {
    "id": "3biUCLMRFygq"
   },
   "source": [
    "## Validation Results"
   ]
  },
  {
   "cell_type": "code",
   "execution_count": 19,
   "metadata": {},
   "outputs": [],
   "source": [
    "epsg = pickle.load(open(path+\"Results/epsg_0008_21.dat\", \"rb\"))\n",
    "ucb1 = pickle.load(open(path+\"Results/UCB_0_1.dat\", \"rb\"))\n",
    "ucb2 = pickle.load(open(path+\"Results/ucb_107_8760.dat\", \"rb\"))\n",
    "custom = pickle.load(open(path+\"Results/custom_-27_24.dat\", \"rb\"))\n",
    "models_realistic = pickle.load(open(path+'Results/model_hurricane.dat', 'rb'))\n",
    "pred_realistic = pickle.load(open(path+'Results/pred_hurricane.dat', 'rb'))\n",
    "\n",
    "epsg_preds = []\n",
    "ucb1_preds = []\n",
    "ucb2_preds = []\n",
    "custom_preds = []\n",
    "\n",
    "for i in range(len(epsg)):\n",
    "    epsg_year_preds = epsg[i].history_pred\n",
    "    ucb1_year_preds = ucb1[i].history_pred\n",
    "    ucb2_year_preds = ucb2[i].history_pred\n",
    "    custom_year_preds = custom[i].history_pred\n",
    "    epsg_preds.append(epsg_year_preds)\n",
    "    ucb1_preds.append(ucb1_year_preds)\n",
    "    ucb2_preds.append(ucb2_year_preds)\n",
    "    custom_preds.append(custom_year_preds)\n",
    "\n",
    "df_test.sort_values(['year', 'PULocationID', 'datetime'], inplace = True)\n",
    "df_test['epsg'] = [item for elem in epsg_preds for item in elem]\n",
    "df_test['ucb1'] = [item for elem in ucb1_preds for item in elem]\n",
    "df_test['ucb2'] = [item for elem in ucb2_preds for item in elem]\n",
    "df_test['custom'] = [item for elem in custom_preds for item in elem]"
   ]
  },
  {
   "cell_type": "code",
   "execution_count": 20,
   "metadata": {
    "id": "t9qdptvtDqLx"
   },
   "outputs": [],
   "source": [
    "df_year = df_test[df_test['year']==2011]"
   ]
  },
  {
   "cell_type": "code",
   "execution_count": 21,
   "metadata": {
    "colab": {
     "base_uri": "https://localhost:8080/"
    },
    "id": "7iyXYbt_DzQU",
    "outputId": "0b3dff3e-ee0e-4559-b451-5b16b5abf215"
   },
   "outputs": [
    {
     "name": "stdout",
     "output_type": "stream",
     "text": [
      "0.4658677643485559\n"
     ]
    }
   ],
   "source": [
    "print(sum(np.array(custom[0].history_model) != np.array(xgb_only[0].history_model))/len(xgb_only[0].history_model)*100)"
   ]
  },
  {
   "cell_type": "code",
   "execution_count": 22,
   "metadata": {
    "colab": {
     "base_uri": "https://localhost:8080/"
    },
    "id": "1CE9AZcgD2Nt",
    "outputId": "6a72d6c5-41d2-434c-c018-2d230eb0bade"
   },
   "outputs": [
    {
     "name": "stdout",
     "output_type": "stream",
     "text": [
      "XGB vs Custom dm_return(DM=7.903175248083658, p_value=2.734531069337368e-15)\n"
     ]
    }
   ],
   "source": [
    "print('XGB vs Custom', dm_test(df_year['y'], df_year['xgb'],  df_year['custom']))"
   ]
  },
  {
   "cell_type": "code",
   "execution_count": 23,
   "metadata": {
    "colab": {
     "base_uri": "https://localhost:8080/",
     "height": 394
    },
    "id": "aI7Uldk9D5RJ",
    "outputId": "d0434984-957f-4429-ca87-0921053d2794"
   },
   "outputs": [
    {
     "data": {
      "text/plain": [
       "[Text(0.5, 15.0, 'Day of the Year'), Text(33.0, 0.5, 'Taxi Zone')]"
      ]
     },
     "execution_count": 23,
     "metadata": {},
     "output_type": "execute_result"
    },
    {
     "data": {
      "image/png": "[encoded data removed]",
      "text/plain": [
       "<Figure size 432x288 with 2 Axes>"
      ]
     },
     "metadata": {
      "needs_background": "light"
     },
     "output_type": "display_data"
    }
   ],
   "source": [
    "# Custom Learning Strategy\n",
    "model_selections = custom[0].history_model\n",
    "model_selections_bin = [1 if i=='naive' else 0 for i in model_selections]\n",
    "\n",
    "df_year['custom_selection'] = model_selections_bin\n",
    "custom_averages = df_year.groupby(['PULocationID', 'doy'], as_index = False).mean()[['PULocationID', 'doy', 'custom_selection']]\n",
    "data_heatmap_custom = custom_averages.pivot_table(index = ['PULocationID'], columns = 'doy', values = 'custom_selection')\n",
    "\n",
    "ax = sns.heatmap(data_heatmap_custom, cbar = True, cmap = cdict_r)\n",
    "ax.set(xlabel = 'Day of the Year', ylabel = 'Taxi Zone')"
   ]
  },
  {
   "cell_type": "code",
   "execution_count": 24,
   "metadata": {
    "colab": {
     "base_uri": "https://localhost:8080/",
     "height": 296
    },
    "id": "P9pr4Q7QFjF3",
    "outputId": "3a337a25-f758-4b8d-ef25-455fbc4caaca"
   },
   "outputs": [
    {
     "data": {
      "text/plain": [
       "<AxesSubplot:xlabel='Time', ylabel='Trips'>"
      ]
     },
     "execution_count": 24,
     "metadata": {},
     "output_type": "execute_result"
    },
    {
     "data": {
      "image/png": "[encoded data removed]",
      "text/plain": [
       "<Figure size 432x288 with 1 Axes>"
      ]
     },
     "metadata": {
      "needs_background": "light"
     },
     "output_type": "display_data"
    }
   ],
   "source": [
    "# Hurricane Irene 2011\n",
    "day = 239\n",
    "zone = 237\n",
    "df_year_zone = df_year[(df_year['PULocationID']==zone)]\n",
    "\n",
    "df_year_zone[(df_year_zone['doy']==day)|(df_year_zone['doy']==day+1)|(df_year_zone['doy']==day+2)].plot(x = 'datetime', y = ['y', 'xgb', 'naive', 'custom'], legend = True, xlabel = 'Time', ylabel = 'Trips', color = ['#0D8390', '#86BC25', '#000000', 'red'], style = ['-', '-', '-', '.'])"
   ]
  },
  {
   "cell_type": "markdown",
   "metadata": {
    "id": "rdsJb69SF3HR"
   },
   "source": [
    "## Testing Results"
   ]
  },
  {
   "cell_type": "code",
   "execution_count": 28,
   "metadata": {
    "colab": {
     "base_uri": "https://localhost:8080/",
     "height": 358
    },
    "id": "HoKMLVXaMuZO",
    "outputId": "5ddded10-fc29-4adb-ff31-ba2530055f40"
   },
   "outputs": [],
   "source": [
    "yearly_custom_smape = []\n",
    "yearly_custom_rmse = []\n",
    "yearly_titles = []\n",
    "for title, group in df_test.groupby(['year']):\n",
    "    yearly_titles.append(title)\n",
    "    yearly_custom_smape.append(smape(group['custom'], group['y']))\n",
    "    yearly_custom_rmse.append(rmse(group['custom'], group['y']))\n",
    "\n",
    "yearly = pd.DataFrame({'date': yearly_titles, \n",
    "                       'custom_smape':yearly_custom_smape,\n",
    "                        'custom_rmse':yearly_custom_rmse})"
   ]
  },
  {
   "cell_type": "code",
   "execution_count": 29,
   "metadata": {
    "colab": {
     "base_uri": "https://localhost:8080/"
    },
    "id": "qeZY_kRvgujT",
    "outputId": "7d83366d-0c22-4a17-db85-aac130f89db1"
   },
   "outputs": [
    {
     "name": "stdout",
     "output_type": "stream",
     "text": [
      "\\begin{tabular}{rrr}\n",
      "\\toprule\n",
      " date &  custom\\_smape &  custom\\_rmse \\\\\n",
      "\\midrule\n",
      " 2011 &         10.64 &        70.68 \\\\\n",
      " 2012 &          9.78 &        67.85 \\\\\n",
      " 2013 &         10.00 &        68.15 \\\\\n",
      " 2014 &         10.03 &        65.45 \\\\\n",
      " 2015 &         10.55 &        61.71 \\\\\n",
      " 2016 &         11.22 &        58.17 \\\\\n",
      " 2017 &         11.66 &        52.58 \\\\\n",
      " 2018 &         11.95 &        48.12 \\\\\n",
      " 2019 &         13.13 &        42.72 \\\\\n",
      " 2020 &         38.52 &        25.21 \\\\\n",
      "\\bottomrule\n",
      "\\end{tabular}\n",
      "\n"
     ]
    }
   ],
   "source": [
    "print(yearly.to_latex(index = False, float_format = \"%.2f\"))"
   ]
  },
  {
   "cell_type": "code",
   "execution_count": 30,
   "metadata": {
    "colab": {
     "base_uri": "https://localhost:8080/"
    },
    "id": "0Fqbn0DoF5YL",
    "outputId": "85d5fe5e-64d3-463a-dbe8-b9274c77e5a9"
   },
   "outputs": [
    {
     "name": "stdout",
     "output_type": "stream",
     "text": [
      "smape: 13.64\n",
      "rmse: 57.78\n"
     ]
    }
   ],
   "source": [
    "print('smape:', round(smape(df_test['y'], df_test['custom']), 2))\n",
    "print('rmse:', round(rmse(df_test['y'], df_test['custom']), 2))"
   ]
  },
  {
   "cell_type": "code",
   "execution_count": 31,
   "metadata": {
    "id": "NdjZNTHYHWIa"
   },
   "outputs": [],
   "source": [
    "equality_custom = []\n",
    "dm_test_custom = []\n",
    "dm_p_custom = []\n",
    "\n",
    "\n",
    "for j in range(0, 10):\n",
    "    equality_custom.append(sum(np.array(custom[j].history_model) != 'xgb')/len(xgb_only[j].history_model)*100)\n",
    "    dm_test_custom.append(dm_test(custom[j].history_y, xgb_only[j].history_pred, custom[j].history_pred)[0])\n",
    "    dm_p_custom.append(dm_test(custom[j].history_y, xgb_only[j].history_pred, custom[j].history_pred)[1])"
   ]
  },
  {
   "cell_type": "code",
   "execution_count": 32,
   "metadata": {
    "colab": {
     "base_uri": "https://localhost:8080/"
    },
    "id": "Gx6RezXRkZ7u",
    "outputId": "0534ae32-01b7-4285-bd6c-2e73417b1adf"
   },
   "outputs": [
    {
     "data": {
      "text/plain": [
       "[2.734531069337368e-15,\n",
       " 0.12006447210214684,\n",
       " 0.0027634452689895114,\n",
       " 0.1493522202437558,\n",
       " 1.5104802835192815e-07,\n",
       " 0.11730903843737758,\n",
       " 0.00918951647425808,\n",
       " 3.3710057119509107e-17,\n",
       " 2.81990259712362e-26,\n",
       " 0.0]"
      ]
     },
     "execution_count": 32,
     "metadata": {},
     "output_type": "execute_result"
    }
   ],
   "source": [
    "dm_p_custom"
   ]
  },
  {
   "cell_type": "code",
   "execution_count": 33,
   "metadata": {
    "colab": {
     "base_uri": "https://localhost:8080/"
    },
    "id": "rn03tLmNIL4M",
    "outputId": "c1b6f03c-5bf8-4939-be5b-bc65074fe9d3"
   },
   "outputs": [
    {
     "name": "stdout",
     "output_type": "stream",
     "text": [
      "\\begin{tabular}{rrrr}\n",
      "\\toprule\n",
      " year &  custom1 &  custom &     p \\\\\n",
      "\\midrule\n",
      " 2011 &    0.466 &   7.903 & 0.000 \\\\\n",
      " 2012 &    0.137 &  -1.555 & 0.120 \\\\\n",
      " 2013 &    0.041 &  -2.993 & 0.003 \\\\\n",
      " 2014 &    0.082 &  -1.442 & 0.149 \\\\\n",
      " 2015 &    0.617 &  -5.251 & 0.000 \\\\\n",
      " 2016 &    0.574 &  -1.566 & 0.117 \\\\\n",
      " 2017 &    0.247 &  -2.605 & 0.009 \\\\\n",
      " 2018 &    0.315 &  -8.434 & 0.000 \\\\\n",
      " 2019 &    0.671 & -10.607 & 0.000 \\\\\n",
      " 2020 &   52.474 &  38.399 & 0.000 \\\\\n",
      "\\bottomrule\n",
      "\\end{tabular}\n",
      "\n"
     ]
    }
   ],
   "source": [
    "print(pd.DataFrame({'year': [i for i in range(2011, 2021)],\n",
    "             'custom1': equality_custom, \n",
    "             'custom': dm_test_custom,\n",
    "             'p': dm_p_custom}).to_latex(index = False, float_format=\"%.3f\"))"
   ]
  },
  {
   "cell_type": "code",
   "execution_count": 34,
   "metadata": {
    "id": "JL9q9YJ1Hv17"
   },
   "outputs": [],
   "source": [
    "evaluate_testing_results = pd.DataFrame()\n",
    "custom_models = []\n",
    "\n",
    "for i in range(len(custom)):\n",
    "    custom_year_models = custom[i].history_model\n",
    "    custom_models.append(custom_year_models)\n",
    "\n",
    "evaluate_testing_results['custom'] = [item for elem in custom_models for item in elem]"
   ]
  },
  {
   "cell_type": "code",
   "execution_count": 35,
   "metadata": {
    "colab": {
     "base_uri": "https://localhost:8080/"
    },
    "id": "9b6jnC_oIEh9",
    "outputId": "293d9a86-28da-463f-8e16-9798baf4003d"
   },
   "outputs": [
    {
     "name": "stdout",
     "output_type": "stream",
     "text": [
      "XGB vs custom dm_return(DM=-1.5296561970957085, p_value=0.12610203259788935)\n",
      "5.3558718249369885\n"
     ]
    }
   ],
   "source": [
    "print('XGB vs custom', dm_test(df_test['y'], df_test['xgb'],  df_test['custom']))\n",
    "print(sum(evaluate_testing_results['custom']!='xgb')/len(evaluate_testing_results)*100)"
   ]
  },
  {
   "cell_type": "code",
   "execution_count": 36,
   "metadata": {
    "colab": {
     "base_uri": "https://localhost:8080/",
     "height": 411
    },
    "id": "mdunYsYDIlwa",
    "outputId": "bd33840e-5559-41ab-ff03-e20298f2b52f"
   },
   "outputs": [
    {
     "name": "stdout",
     "output_type": "stream",
     "text": [
      "2016\n"
     ]
    },
    {
     "data": {
      "text/plain": [
       "[Text(0.5, 15.0, 'Day of the Year'), Text(33.0, 0.5, 'Taxi Zone')]"
      ]
     },
     "execution_count": 36,
     "metadata": {},
     "output_type": "execute_result"
    },
    {
     "data": {
      "image/png": "[encoded data removed]",
      "text/plain": [
       "<Figure size 432x288 with 2 Axes>"
      ]
     },
     "metadata": {
      "needs_background": "light"
     },
     "output_type": "display_data"
    }
   ],
   "source": [
    "# 2016\n",
    "j = 5\n",
    "years = [i for i in range(2011, 2021)]\n",
    "df_test_year = df_test[df_test['year'] == years[j]]\n",
    "print(years[j])\n",
    "\n",
    "model_selections = custom[j].history_model\n",
    "model_selections_bin = [1 if i=='naive' else 0 for i in model_selections]\n",
    "\n",
    "df_test_year['custom_selection'] = model_selections_bin\n",
    "custom_averages = df_test_year.groupby(['PULocationID', 'doy'], as_index = False).mean()[['PULocationID', 'doy', 'custom_selection']]\n",
    "data_heatmap_custom = custom_averages.pivot_table(index = ['PULocationID'], columns = 'doy', values = 'custom_selection')\n",
    "\n",
    "ax = sns.heatmap(data_heatmap_custom, cbar = True, cmap = cdict_r)\n",
    "ax.set(xlabel = 'Day of the Year', ylabel = 'Taxi Zone')"
   ]
  },
  {
   "cell_type": "code",
   "execution_count": 37,
   "metadata": {
    "colab": {
     "base_uri": "https://localhost:8080/",
     "height": 411
    },
    "id": "yPafEc9QIlwd",
    "outputId": "07dfbccc-e388-4ff5-f71c-67861527a150"
   },
   "outputs": [
    {
     "name": "stdout",
     "output_type": "stream",
     "text": [
      "2020\n"
     ]
    },
    {
     "data": {
      "text/plain": [
       "[Text(0.5, 15.0, 'Day of the Year'), Text(33.0, 0.5, 'Taxi Zone')]"
      ]
     },
     "execution_count": 37,
     "metadata": {},
     "output_type": "execute_result"
    },
    {
     "data": {
      "image/png": "[encoded data removed]",
      "text/plain": [
       "<Figure size 432x288 with 2 Axes>"
      ]
     },
     "metadata": {
      "needs_background": "light"
     },
     "output_type": "display_data"
    }
   ],
   "source": [
    "# 2020\n",
    "j = 9\n",
    "years = [i for i in range(2011, 2021)]\n",
    "df_test_year = df_test[df_test['year'] == years[j]]\n",
    "print(years[j])\n",
    "\n",
    "model_selections = custom[j].history_model\n",
    "model_selections_bin = [1 if i=='naive' else 0 for i in model_selections]\n",
    "\n",
    "df_test_year['custom_selection'] = model_selections_bin\n",
    "custom_averages = df_test_year.groupby(['PULocationID', 'doy'], as_index = False).mean()[['PULocationID', 'doy', 'custom_selection']]\n",
    "data_heatmap_custom = custom_averages.pivot_table(index = ['PULocationID'], columns = 'doy', values = 'custom_selection')\n",
    "\n",
    "ax = sns.heatmap(data_heatmap_custom, cbar = True, cmap = cdict_r)\n",
    "ax.set(xlabel = 'Day of the Year', ylabel = 'Taxi Zone')"
   ]
  }
 ],
 "metadata": {
  "accelerator": "GPU",
  "colab": {
   "collapsed_sections": [
    "EntWdI7-YZZO",
    "b2FX2OSDGJuP",
    "C6Fgk1Fguf8v",
    "hOsPAYTkduQ5"
   ],
   "name": "Taxi_MAB_Results.ipynb",
   "provenance": []
  },
  "kernelspec": {
   "display_name": "Python 3",
   "language": "python",
   "name": "python3"
  },
  "language_info": {
   "codemirror_mode": {
    "name": "ipython",
    "version": 3
   },
   "file_extension": ".py",
   "mimetype": "text/x-python",
   "name": "python",
   "nbconvert_exporter": "python",
   "pygments_lexer": "ipython3",
   "version": "3.8.10"
  }
 },
 "nbformat": 4,
 "nbformat_minor": 1
}
