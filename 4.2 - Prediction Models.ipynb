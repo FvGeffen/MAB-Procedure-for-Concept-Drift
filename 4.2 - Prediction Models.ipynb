{
 "cells": [
  {
   "cell_type": "markdown",
   "metadata": {},
   "source": [
    "# 4.2 Prediction Models"
   ]
  },
  {
   "cell_type": "markdown",
   "metadata": {},
   "source": [
    "## Preparations"
   ]
  },
  {
   "cell_type": "code",
   "execution_count": 1,
   "metadata": {
    "id": "YHmkHP3HYZZE"
   },
   "outputs": [],
   "source": [
    "from sklearn.preprocessing import LabelEncoder\n",
    "from sklearn.preprocessing import OneHotEncoder\n",
    "from sklearn.metrics import mean_squared_error\n",
    "from sklearn.model_selection import GridSearchCV\n",
    "from sklearn.model_selection import RandomizedSearchCV\n",
    "import statsmodels as sm\n",
    "import pandas as pd\n",
    "import numpy as np\n",
    "import xgboost as xgb\n",
    "import datetime\n",
    "import random\n",
    "import pickle\n",
    "import openpyxl\n",
    "from pathlib import Path\n",
    "from matplotlib import pyplot as plt\n",
    "from matplotlib import cm\n",
    "from matplotlib.colors import LinearSegmentedColormap\n",
    "import seaborn as sns\n",
    "import shap\n",
    "import statistics\n",
    "\n",
    "import warnings\n",
    "warnings.filterwarnings('ignore')"
   ]
  },
  {
   "cell_type": "code",
   "execution_count": 2,
   "metadata": {
    "id": "X_pyxcecYZZI"
   },
   "outputs": [],
   "source": [
    "path = ''\n",
    "df_top20 = pd.read_csv(path+'Data/df_top20.csv')\n",
    "df_complex_complete = pd.DataFrame()\n",
    "\n",
    "for i in df_top20.groupby('PULocationID'):\n",
    "    A = i[1]\n",
    "\n",
    "    df_complex = pd.concat([A['datetime'], A['PULocationID'], \n",
    "                            A['PULocationID'].astype(str)+'-'+A['pickup_day_of_week'].astype(str), \n",
    "                            np.cos((A['pickup_hour']*2*np.pi)/24), \n",
    "                            np.sin((A['pickup_hour']*2*np.pi)/24), np.cos((A['pickup_hour']*2*np.pi)/12),  \n",
    "                            np.sin((A['pickup_hour']*2*np.pi)/12), A['count'], \n",
    "                            A['count'].shift(1), A['count'].shift(2),A['count'].shift(3), A['count'].shift(4),\n",
    "                            A['count'].shift(5), A['count'].shift(6), A['count'].shift(7), A['count'].shift(8), \n",
    "                            A['count'].shift(9), A['count'].shift(10),A['count'].shift(11), A['count'].shift(12), \n",
    "                            A['count'].shift(13), A['count'].shift(14), A['count'].shift(15), A['count'].shift(16), \n",
    "                            A['count'].shift(17), A['count'].shift(18), A['count'].shift(19), A['count'].shift(20), \n",
    "                            A['count'].shift(21), A['count'].shift(22),   A['count'].shift(23), A['count'].shift(24), \n",
    "                            A['count'].shift(168), A['count'].shift(336), A['count'].shift(504), A['count'].shift(672)], \n",
    "                           axis = 1)\n",
    "\n",
    "    df_complex.columns = ['datetime', 'PULocationID', 'categorical', 'cos_hour', 'sin_hour', 'cos_month', \n",
    "                          'sin_month', 'y', 'y-1', 'y-2', 'y-3', 'y-4','y-5', 'y-6', 'y-7', 'y-8', 'y-9', \n",
    "                          'y-10', 'y-11', 'y-12','y-13', 'y-14', 'y-15', 'y-16','y-17', 'y-18', 'y-19', 'y-20',\n",
    "                      'y-21', 'y-22', 'y-23', 'y-24', 'y-1w', 'y-2w', 'y-3w', 'y-4w']\n",
    "    df_complex_complete = df_complex_complete.append(df_complex, ignore_index = True) \n",
    "\n",
    "df_final = df_complex_complete.join(pd.get_dummies(df_complex_complete['categorical'])).dropna()\n",
    "df_final.sort_values(['PULocationID', 'datetime'], inplace = True)\n",
    "\n",
    "df_train = df_final.loc[(pd.to_datetime(df_final['datetime']) < pd.to_datetime('2011-01-01 00:00:00'))]\n",
    "X_train = df_train.drop(['datetime', 'categorical','y'], axis = 1)\n",
    "y_train = df_train['y']"
   ]
  },
  {
   "cell_type": "code",
   "execution_count": 3,
   "metadata": {
    "id": "3bZbyuW4YZZK"
   },
   "outputs": [],
   "source": [
    "# Metrics\n",
    "def smape(actual, forecast):\n",
    "    actual = np.array(actual)\n",
    "    forecast = np.array(forecast)\n",
    "    return 1/len(actual) * np.sum(2 * np.abs(forecast-actual) / (np.abs(actual) + np.abs(forecast))*100)\n",
    "\n",
    "def rmse(actual, forecast):\n",
    "    actual = np.array(actual)\n",
    "    forecast = np.array(forecast)\n",
    "    return(np.sqrt(mean_squared_error(actual,forecast)))"
   ]
  },
  {
   "cell_type": "code",
   "execution_count": 4,
   "metadata": {
    "id": "Tl2ltCUZiGkt"
   },
   "outputs": [],
   "source": [
    "# MAB Procedure\n",
    "class MAB(object):\n",
    "    \"\"\"Base selector\n",
    "    \n",
    "    Args:\n",
    "        models (dict): a dictionary of models from which the selector must choose at every\n",
    "            call to ``select``.\n",
    "        learning_strategy (func): a funct that represents the learning strategy utilized\n",
    "            by the selector at every call to ``select``.\n",
    "    \"\"\"\n",
    "    def __init__(self, models, learning_strategy):\n",
    "        self.models = models\n",
    "        self.ls = learning_strategy\n",
    "        self.scores = dict.fromkeys(models.keys(), [1])\n",
    "        self.history_model = []\n",
    "        self.history_score = []\n",
    "        self.history_pred = []\n",
    "        self.history_y = []\n",
    "        \n",
    "        # change for zone specifity\n",
    "        self.zone = [9999]\n",
    "\n",
    "    def select(self, **kwargs):\n",
    "        return max(self.scores, \n",
    "                   key=lambda i: self.ls([i, self.scores[i], self.history_model, self.history_score], **kwargs))\n",
    "        \n",
    "    def procedure(self, series, **kwargs):\n",
    "        self.zone.append(series.loc['PULocationID'])\n",
    "        X = series.iloc[~series.index.isin(['y', 'datetime', 'PULocationID', 'categorical'])]\n",
    "        y = series['y']\n",
    "        \n",
    "        if self.zone[-1] != self.zone[-2]:\n",
    "            self.scores = dict.fromkeys(models.keys(), [1])\n",
    "        \n",
    "        random_number = random.random()\n",
    "        model = self.select(random_number = random_number, **kwargs)\n",
    "        pred = max(0, self.models[model](X))\n",
    "        percentage_error = np.abs(y-pred)/y\n",
    "        percentage_accur = 1 - percentage_error\n",
    "        self.scores[model] = self.scores[model] + [percentage_accur]\n",
    "        \n",
    "        self.history_model.append(model)\n",
    "        self.history_pred.append(pred)\n",
    "        self.history_score.append(percentage_accur)\n",
    "        self.history_y.append(y)\n",
    "        \n",
    "    def execute(self, df, **kwargs):\n",
    "        df.apply(self.procedure, **kwargs, axis = 1)"
   ]
  },
  {
   "cell_type": "code",
   "execution_count": 5,
   "metadata": {
    "id": "rmqUfmpNFz9b"
   },
   "outputs": [],
   "source": [
    "# learning strategies\n",
    "def ls_xgboost(list, random_number):\n",
    "    if list[0] == 'xgb':\n",
    "        return 1\n",
    "    else:\n",
    "        return 0\n",
    "    \n",
    "def ls_naive(list, random_number):\n",
    "    if list[0] == 'naive':\n",
    "        return 1\n",
    "    else:\n",
    "        return 0"
   ]
  },
  {
   "cell_type": "code",
   "execution_count": 6,
   "metadata": {},
   "outputs": [],
   "source": [
    "R = np.linspace(0, .5234375)\n",
    "G = np.linspace(0, .734375)\n",
    "B = np.linspace(0, .14453125)\n",
    "x = np.linspace(0, 1)\n",
    "\n",
    "red_list = []\n",
    "green_list = []\n",
    "blue_list = []\n",
    "for i in range(len(R)):\n",
    "    red_list.append((x[i], R[i], R[i]))\n",
    "    green_list.append((x[i], G[i], G[i]))\n",
    "    blue_list.append((x[i], B[i], B[i]))\n",
    "\n",
    "red_tuple = tuple(red_list)\n",
    "green_tuple = tuple(green_list)\n",
    "blue_tuple = tuple(blue_list)\n",
    "\n",
    "cdict = {'red': red_tuple, 'green': green_tuple, 'blue':blue_tuple}\n",
    "cdict = LinearSegmentedColormap('cdict', cdict)\n",
    "\n",
    "R = np.linspace(.5234375, 0)\n",
    "G = np.linspace(.734375, 0)\n",
    "B = np.linspace(.14453125, 0)\n",
    "x = np.linspace(0, 1)\n",
    "\n",
    "red_list = []\n",
    "green_list = []\n",
    "blue_list = []\n",
    "for i in range(len(R)):\n",
    "    red_list.append((x[i], R[i], R[i]))\n",
    "    green_list.append((x[i], G[i], G[i]))\n",
    "    blue_list.append((x[i], B[i], B[i]))\n",
    "\n",
    "red_tuple = tuple(red_list)\n",
    "green_tuple = tuple(green_list)\n",
    "blue_tuple = tuple(blue_list)\n",
    "\n",
    "cdict_r = {'red': red_tuple, 'green': green_tuple, 'blue':blue_tuple}\n",
    "cdict_r = LinearSegmentedColormap('cdict_r', cdict_r)"
   ]
  },
  {
   "cell_type": "markdown",
   "metadata": {
    "id": "SFhePL9Li0MX"
   },
   "source": [
    "## 4.2.1 Parameter Tuning"
   ]
  },
  {
   "cell_type": "code",
   "execution_count": null,
   "metadata": {
    "colab": {
     "base_uri": "https://localhost:8080/"
    },
    "executionInfo": {
     "elapsed": 2702670,
     "status": "ok",
     "timestamp": 1620129787511,
     "user": {
      "displayName": "Freek Van Geffen",
      "photoUrl": "",
      "userId": "04628151538599684663"
     },
     "user_tz": -120
    },
    "id": "YPHXTYNWN-t-",
    "outputId": "aab8fa62-e100-4b04-d1f0-9b07c29b93e7"
   },
   "outputs": [],
   "source": [
    "# Bayesian Optimization\n",
    "from skopt import forest_minimize\n",
    "from sklearn.model_selection import cross_val_score\n",
    "\n",
    "def tune_xgbc(params):\n",
    "# Implementation learned on a lesson of Mario Filho (Kagle Grandmaster) for parametes optmization.\n",
    "# Link to the video: https://www.youtube.com/watch?v=WhnkeasZNHI\n",
    "\n",
    "    \"\"\"Function to be passed as scikit-optimize minimizer/maximizer input\n",
    "\n",
    "    Parameters:\n",
    "    Tuples with information about the range that the optimizer should use for that parameter, \n",
    "    as well as the behaviour that it should follow in that range.\n",
    "\n",
    "    Returns:\n",
    "    float: the metric that should be minimized. If the objective is maximization, then the negative \n",
    "    of the desired metric must be returned. In this case, the negative AUC average generated by CV is returned.\n",
    "    \"\"\"\n",
    "\n",
    "\n",
    "    #Hyperparameters to be optimized\n",
    "    print(params)\n",
    "    learning_rate = params[0] \n",
    "    n_estimators = params[1] \n",
    "    max_depth = params[2]\n",
    "    min_child_weight = params[3]\n",
    "    gamma = params[4]\n",
    "    subsample = params[5]\n",
    "    colsample_bytree = params[6]\n",
    "\n",
    "\n",
    "    #Model to be optimized\n",
    "    mdl = xgb.XGBRegressor(learning_rate = learning_rate, \n",
    "                            n_estimators = n_estimators, \n",
    "                            max_depth = max_depth, \n",
    "                            min_child_weight = min_child_weight, \n",
    "                            gamma = gamma, \n",
    "                            subsample = subsample, \n",
    "                            colsample_bytree = colsample_bytree, seed = 42)\n",
    "\n",
    "\n",
    "    #Cross-Validation in order to avoid overfitting\n",
    "    nmse = cross_val_score(mdl, X_train, y_train, cv = 2, scoring = 'neg_mean_squared_error')\n",
    "\n",
    "    print(nmse.mean())\n",
    "    # as the function is minimization (forest_minimize), we need to use the negative of the desired metric (AUC)\n",
    "    return -nmse.mean()\n",
    "\n",
    "# Creating a sample space in which the initial randomic search should be performed\n",
    "space = [(1e-3, 1e-1, 'log-uniform'), # learning rate\n",
    "          (10, 100), # n_estimators\n",
    "          (1, 10), # max_depth \n",
    "          (1, 6.), # min_child_weight \n",
    "          (0, 0.5), # gamma \n",
    "          (0.5, 1.), # subsample \n",
    "          (0.5, 1.)] # colsample_bytree \n",
    "\n",
    "# Minimization using a random forest with 20 random samples and 50 iterations for Bayesian optimization.\n",
    "result = forest_minimize(tune_xgbc, space, random_state = 42, n_initial_points = 0, n_calls  = 20, verbose = 1, \n",
    "                         x0=old_result.x_iters, y0=old_result.func_vals)\n",
    "\n",
    "dump(result, 'results.pkl')"
   ]
  },
  {
   "cell_type": "code",
   "execution_count": null,
   "metadata": {
    "colab": {
     "base_uri": "https://localhost:8080/"
    },
    "executionInfo": {
     "elapsed": 908,
     "status": "ok",
     "timestamp": 1620129812800,
     "user": {
      "displayName": "Freek Van Geffen",
      "photoUrl": "",
      "userId": "04628151538599684663"
     },
     "user_tz": -120
    },
    "id": "vi5ID_2cQwDv",
    "outputId": "d4906090-c05a-4ca8-b62f-6ddbda252d9d"
   },
   "outputs": [],
   "source": [
    "result.x"
   ]
  },
  {
   "cell_type": "markdown",
   "metadata": {
    "id": "EntWdI7-YZZO"
   },
   "source": [
    "### Model configurations"
   ]
  },
  {
   "cell_type": "code",
   "execution_count": 7,
   "metadata": {
    "id": "J6maSfv-YZZP"
   },
   "outputs": [],
   "source": [
    "# XGBoost\n",
    "params = [0.06759574377750831,82,8,3.247253370691017, 0.04770505824520567,0.6854091260991332, 0.8344206263318037]"
   ]
  },
  {
   "cell_type": "code",
   "execution_count": 8,
   "metadata": {
    "id": "hg_19FMEiGkt"
   },
   "outputs": [],
   "source": [
    "# prediction models\n",
    "def naive(X):\n",
    "    return X['y-1']\n",
    "\n",
    "def xgboost(X):\n",
    "    return xgb_model.predict(X.values.reshape(1,172), validate_features = False)[0]"
   ]
  },
  {
   "cell_type": "markdown",
   "metadata": {},
   "source": [
    "### XGBoost"
   ]
  },
  {
   "cell_type": "code",
   "execution_count": null,
   "metadata": {},
   "outputs": [],
   "source": [
    "# Model Training\n",
    "years = range(2011, 2021)\n",
    "\n",
    "for j in years:    \n",
    "\n",
    "    df_train_j = df_final[(df_final['datetime']>str(j-3)+'-12-31 23:00:00')&(df_final['datetime']<str(j)+'-01-01 00:00:00')]\n",
    "    df_test_j = df_final[(df_final['datetime']>str(j-1)+'-12-31 23:00:00')&(df_final['datetime']<str(j+1)+'-01-01 00:00:00')]\n",
    "    \n",
    "    X_train_j = df_train_j.drop(['datetime', 'categorical','y'], axis = 1)\n",
    "    y_train_j = df_train_j['y']\n",
    "    \n",
    "    print('year:',j, '|',datetime.datetime.now().time())\n",
    "    xgb_model = xgb.XGBRegressor(objective ='reg:squarederror',\n",
    "                                 learning_rate = params[0], \n",
    "                                 n_estimators = params[1], \n",
    "                                 max_depth = params[2], \n",
    "                                 min_child_weight = params[3], \n",
    "                                 gamma = params[4], \n",
    "                                 subsample = params[5], \n",
    "                                 colsample_bytree = params[6], \n",
    "                                 seed = 42)\n",
    "    \n",
    "    print('Training...',datetime.datetime.now().time())\n",
    "    xgb_model.fit(X_train_j, y_train_j)\n",
    "    train_years = str(j-2)[-2:]+str(j-1)[-2:]\n",
    "    name = path+\"Models/train_\"+train_years+\".dat\"\n",
    "    pickle.dump(xgb_model, open(name, \"wb\"))"
   ]
  },
  {
   "cell_type": "code",
   "execution_count": null,
   "metadata": {},
   "outputs": [],
   "source": [
    "years = range(2011, 2021)\n",
    "results = []\n",
    "\n",
    "for j in years:\n",
    "    df_test_j = df_final[(df_final['datetime']>str(j-1)+'-12-31 23:00:00')&(df_final['datetime']<str(j+1)+'-01-01 00:00:00')]\n",
    "    \n",
    "    train_years = str(j-2)[-2:]+str(j-1)[-2:]\n",
    "    name = path+\"Models/train_\"+train_years+\".dat\"\n",
    "    xgb_model = pickle.load(open(name, \"rb\"))    \n",
    "    \n",
    "    print(j, '| Predicting |',datetime.datetime.now().time())\n",
    "    models = {'naive':naive, 'xgb':xgboost}\n",
    "    selector = MAB(models, ls_xgboost)\n",
    "    selector.execute(df_test_j)\n",
    "    results.append(selector)\n",
    "    print(j,'| Finished |',datetime.datetime.now().time())       "
   ]
  },
  {
   "cell_type": "code",
   "execution_count": null,
   "metadata": {},
   "outputs": [],
   "source": [
    "pickle.dump(results, open(path+\"Results/xgb_only.dat\", \"wb\"))"
   ]
  },
  {
   "cell_type": "markdown",
   "metadata": {},
   "source": [
    "### Naive Model"
   ]
  },
  {
   "cell_type": "code",
   "execution_count": null,
   "metadata": {
    "colab": {
     "base_uri": "https://localhost:8080/"
    },
    "executionInfo": {
     "elapsed": 1984336,
     "status": "ok",
     "timestamp": 1622624997605,
     "user": {
      "displayName": "Freek Van Geffen",
      "photoUrl": "",
      "userId": "04628151538599684663"
     },
     "user_tz": -120
    },
    "id": "6E7WjEOoiGk2",
    "outputId": "01f8b34a-59a6-40d1-e778-a3d26a811f11",
    "scrolled": true
   },
   "outputs": [],
   "source": [
    "years = range(2011, 2021)\n",
    "results = []\n",
    "\n",
    "for j in years:\n",
    "    df_test_j = df_final[(df_final['datetime']>str(j-1)+'-12-31 23:00:00')&(df_final['datetime']<str(j+1)+'-01-01 00:00:00')]\n",
    "    \n",
    "    train_years = str(j-2)[-2:]+str(j-1)[-2:]\n",
    "    name = path+\"Models/train_\"+train_years+\".dat\"\n",
    "    xgb_model = pickle.load(open(name, \"rb\"))    \n",
    "    \n",
    "    print(j, '| Predicting |',datetime.datetime.now().time())\n",
    "    models = {'naive':naive, 'xgb':xgboost}\n",
    "    selector = MAB(models, ls_naive)\n",
    "    selector.execute(df_test_j)\n",
    "    results.append(selector)\n",
    "    print(j,'| Finished |',datetime.datetime.now().time())       "
   ]
  },
  {
   "cell_type": "code",
   "execution_count": null,
   "metadata": {
    "id": "ne9yMymmiGk4"
   },
   "outputs": [],
   "source": [
    "pickle.dump(results, open(path+\"Results/naive_only.dat\", \"wb\"))"
   ]
  },
  {
   "cell_type": "markdown",
   "metadata": {},
   "source": [
    "### Benchmark with Baier et al."
   ]
  },
  {
   "cell_type": "code",
   "execution_count": null,
   "metadata": {},
   "outputs": [],
   "source": [
    "baier_pred_naive = []\n",
    "baier_y = []\n",
    "\n",
    "for j in range(2011, 2019):\n",
    "    if j == 2018:\n",
    "        df_train_j = df_final[(df_final['datetime']>str(j-3)+'-12-31 23:00:00')&(df_final['datetime']<str(j)+'-01-01 00:00:00')]\n",
    "        df_test_j = df_final[(df_final['datetime']>str(j-1)+'-12-31 23:00:00')&(df_final['datetime']<str(j)+'-07-01 00:00:00')]\n",
    "    \n",
    "        \n",
    "    else:\n",
    "        df_train_j = df_final[(df_final['datetime']>str(j-3)+'-12-31 23:00:00')&(df_final['datetime']<str(j)+'-01-01 00:00:00')]\n",
    "        df_test_j = df_final[(df_final['datetime']>str(j-1)+'-12-31 23:00:00')&(df_final['datetime']<str(j+1)+'-01-01 00:00:00')]\n",
    "    \n",
    "    X_train_j = df_train_j.drop(['datetime', 'categorical','y'], axis = 1)\n",
    "    y_train_j = df_train_j['y']\n",
    "    \n",
    "    X_test_j = df_test_j.drop(['datetime', 'categorical','y'], axis = 1)\n",
    "    y_test_j = df_test_j['y']\n",
    "    baier_y.extend(y_test_j.tolist()) \n",
    "    \n",
    "    print(j)\n",
    "    y_pred = X_test_j['y-1']\n",
    "    baier_pred_naive.extend(y_pred.tolist())\n",
    "    print(datetime.datetime.now().time())"
   ]
  },
  {
   "cell_type": "code",
   "execution_count": null,
   "metadata": {},
   "outputs": [],
   "source": [
    "baier_pred_xgb = []\n",
    "baier_y = []\n",
    "\n",
    "for j in range(2011, 2019):\n",
    "    if j == 2018:\n",
    "        df_train_j = df_final[(df_final['datetime']>str(j-3)+'-12-31 23:00:00')&(df_final['datetime']<str(j)+'-01-01 00:00:00')]\n",
    "        df_test_j = df_final[(df_final['datetime']>str(j-1)+'-12-31 23:00:00')&(df_final['datetime']<str(j)+'-07-01 00:00:00')]\n",
    "    \n",
    "        \n",
    "    else:\n",
    "        df_train_j = df_final[(df_final['datetime']>str(j-3)+'-12-31 23:00:00')&(df_final['datetime']<str(j)+'-01-01 00:00:00')]\n",
    "        df_test_j = df_final[(df_final['datetime']>str(j-1)+'-12-31 23:00:00')&(df_final['datetime']<str(j+1)+'-01-01 00:00:00')]\n",
    "    \n",
    "    X_train_j = df_train_j.drop(['datetime', 'categorical','y'], axis = 1)\n",
    "    y_train_j = df_train_j['y']\n",
    "    \n",
    "    X_test_j = df_test_j.drop(['datetime', 'categorical','y'], axis = 1)\n",
    "    y_test_j = df_test_j['y']\n",
    "    baier_y.extend(y_test_j.tolist()) \n",
    "    \n",
    "    print(j)\n",
    "    xgb_model = xgb.XGBRegressor(learning_rate = params[0], \n",
    "                            n_estimators = params[1], \n",
    "                            max_depth = params[2], \n",
    "                            min_child_weight = params[3], \n",
    "                            gamma = params[4], \n",
    "                            subsample = params[5], \n",
    "                            colsample_bytree = params[6], seed = 42)\n",
    "    xgb_model.fit(X_train_j, y_train_j)\n",
    "    y_pred = xgb_model.predict(X_test_j)\n",
    "    baier_pred_xgb.extend(y_pred.tolist())\n",
    "    \n",
    "    print(datetime.datetime.now().time())"
   ]
  },
  {
   "cell_type": "code",
   "execution_count": null,
   "metadata": {},
   "outputs": [],
   "source": [
    "baier_naive_rmse = rmse(np.array(baier_y), np.array(baier_pred_naive))\n",
    "baier_naive_smape = smape(np.array(baier_y), np.array(baier_pred_naive))"
   ]
  },
  {
   "cell_type": "code",
   "execution_count": null,
   "metadata": {},
   "outputs": [],
   "source": [
    "baier_xgb_rmse = rmse(baier_y, baier_pred_xgb)\n",
    "baier_xgb_smape = smape(np.array(baier_y), np.array(baier_pred_xgb))"
   ]
  },
  {
   "cell_type": "code",
   "execution_count": null,
   "metadata": {},
   "outputs": [],
   "source": [
    "pd.DataFrame(data = {'smape':[baier_naive_smape, baier_xgb_smape], 'rmse':[baier_naive_rmse, baier_xgb_rmse]})"
   ]
  },
  {
   "cell_type": "markdown",
   "metadata": {},
   "source": [
    "## 4.2.2 Feature Importance"
   ]
  },
  {
   "cell_type": "code",
   "execution_count": null,
   "metadata": {},
   "outputs": [],
   "source": [
    "row = 0\n",
    "column = 0\n",
    "\n",
    "for j in range(2011, 2021):\n",
    "    train_years = str(j-2)[-2:]+str(j-1)[-2:]\n",
    "    X_test = df_final[(df_final['datetime']>str(j-3)+'-12-31 23:00:00')&(df_final['datetime']<str(j)+'-01-01 00:00:00')]\n",
    "    X = X_test.iloc[:, ~X_test.columns.isin(['y', 'datetime', 'PULocationID', 'categorical'])]\n",
    "    name = path+\"Models/train_\"+train_years+\".dat\"\n",
    "    xgb_model = pickle.load(open(name, \"rb\"))\n",
    "    \n",
    "    explainer = shap.TreeExplainer(xgb_model)\n",
    "    shap_values = explainer.shap_values(X, )\n",
    "    shap.summary_plot(shap_values, X, max_display= 10, cmap = 'summer')\n",
    "\n",
    "\n",
    "    column = column + 1\n",
    "    if column == 2:\n",
    "        row = row + 1\n",
    "        column = 0"
   ]
  },
  {
   "cell_type": "markdown",
   "metadata": {},
   "source": [
    "## 4.2.3 Predictive Performance"
   ]
  },
  {
   "cell_type": "code",
   "execution_count": 9,
   "metadata": {},
   "outputs": [],
   "source": [
    "xgb_only = pickle.load(open(path+\"Results/xgb_only.dat\", \"rb\"))\n",
    "naive_only = pickle.load(open(path+\"Results/naive_only.dat\", \"rb\"))"
   ]
  },
  {
   "cell_type": "code",
   "execution_count": 11,
   "metadata": {},
   "outputs": [],
   "source": [
    "df_test = df_final[(df_final['datetime']>'2010-12-31 23:00:00')]\n",
    "df_test = df_test[['datetime', 'PULocationID', 'categorical', 'y']]\n",
    "df_test['datetime'] = pd.to_datetime(df_test['datetime'])\n",
    "df_test['year'] = pd.to_numeric(df_test['datetime'].dt.strftime('%Y'))\n",
    "df_test['doy'] = pd.to_numeric(df_test['datetime'].dt.strftime('%j'))\n",
    "df_test['woy'] = pd.to_numeric(df_test['datetime'].dt.strftime('%W'))\n",
    "\n",
    "xgb_preds = []\n",
    "naive_preds = []\n",
    "\n",
    "for i in range(len(xgb_only)):\n",
    "    xgb_year_preds = xgb_only[i].history_pred\n",
    "    naive_year_preds = naive_only[i].history_pred\n",
    "    xgb_preds.append(xgb_year_preds)\n",
    "    naive_preds.append(naive_year_preds)\n",
    "\n",
    "df_test.sort_values(['year', 'PULocationID', 'datetime'], inplace = True)\n",
    "df_test['xgb'] = [item for elem in xgb_preds for item in elem]\n",
    "df_test['naive'] = [item for elem in naive_preds for item in elem]"
   ]
  },
  {
   "cell_type": "code",
   "execution_count": 12,
   "metadata": {},
   "outputs": [],
   "source": [
    "yearly_xgb_smape = []\n",
    "yearly_xgb_rmse = []\n",
    "yearly_naive_smape = []\n",
    "yearly_naive_rmse = []\n",
    "yearly_titles = []\n",
    "for title, group in df_test.groupby(['year']):\n",
    "    yearly_titles.append(title)\n",
    "    yearly_xgb_smape.append(smape(group['xgb'], group['y']))\n",
    "    yearly_xgb_rmse.append(rmse(group['xgb'], group['y']))\n",
    "    yearly_naive_smape.append(smape(group['naive'], group['y']))\n",
    "    yearly_naive_rmse.append(rmse(group['naive'], group['y']))\n",
    "\n",
    "yearly = pd.DataFrame({'date': yearly_titles, \n",
    "                       'xgb_smape':yearly_xgb_smape, \n",
    "                       'naive_smape':yearly_naive_smape, \n",
    "                       'xgb_rmse':yearly_xgb_rmse, \n",
    "                       'naive_rmse':yearly_naive_rmse})"
   ]
  },
  {
   "cell_type": "code",
   "execution_count": 13,
   "metadata": {},
   "outputs": [
    {
     "name": "stdout",
     "output_type": "stream",
     "text": [
      "\\begin{tabular}{rrrrr}\n",
      "\\toprule\n",
      " date &  xgb\\_smape &  naive\\_smape &  xgb\\_rmse &  naive\\_rmse \\\\\n",
      "\\midrule\n",
      " 2011 &      10.81 &        26.20 &     70.78 &      150.49 \\\\\n",
      " 2012 &       9.77 &        26.41 &     67.84 &      153.18 \\\\\n",
      " 2013 &      10.00 &        26.61 &     68.12 &      151.45 \\\\\n",
      " 2014 &      10.03 &        26.18 &     65.43 &      142.40 \\\\\n",
      " 2015 &      10.55 &        26.12 &     61.23 &      126.60 \\\\\n",
      " 2016 &      11.27 &        26.19 &     57.80 &      115.55 \\\\\n",
      " 2017 &      11.61 &        26.60 &     52.00 &      102.05 \\\\\n",
      " 2018 &      11.89 &        27.43 &     47.74 &       94.17 \\\\\n",
      " 2019 &      13.01 &        28.55 &     42.19 &       79.91 \\\\\n",
      " 2020 &      51.26 &        39.01 &     28.71 &       39.17 \\\\\n",
      "\\bottomrule\n",
      "\\end{tabular}\n",
      "\n"
     ]
    }
   ],
   "source": [
    "print(yearly.to_latex( float_format=\"%.2f\", index = False))"
   ]
  },
  {
   "cell_type": "code",
   "execution_count": 14,
   "metadata": {},
   "outputs": [
    {
     "name": "stdout",
     "output_type": "stream",
     "text": [
      "14.861623287025488 27.882354085027615\n",
      "57.72512845788117 121.03608074203618\n"
     ]
    }
   ],
   "source": [
    "print(smape(df_test['y'], df_test['xgb']), smape(df_test['y'], df_test['naive']))\n",
    "print(rmse(df_test['y'], df_test['xgb']), rmse(df_test['y'], df_test['naive']))"
   ]
  },
  {
   "cell_type": "code",
   "execution_count": 15,
   "metadata": {},
   "outputs": [],
   "source": [
    "weekly_xgb_smape = []\n",
    "weekly_xgb_rmse = []\n",
    "weekly_naive_smape = []\n",
    "weekly_naive_rmse = []\n",
    "weekly_titles = []\n",
    "for title, group in df_test.groupby(['year', 'woy']):\n",
    "    weekly_titles.append(str(title[1])+'-'+str(title[0]))\n",
    "    weekly_xgb_smape.append(smape(group['xgb'], group['y']))\n",
    "    weekly_xgb_rmse.append(rmse(group['xgb'], group['y']))\n",
    "    weekly_naive_smape.append(smape(group['naive'], group['y']))\n",
    "    weekly_naive_rmse.append(rmse(group['naive'], group['y']))\n",
    "\n",
    "weekly = pd.DataFrame({'date': weekly_titles, \n",
    "                       'xgb_smape':weekly_xgb_smape, \n",
    "                       'naive_smape':weekly_naive_smape, \n",
    "                       'xgb_rmse':weekly_xgb_rmse, \n",
    "                       'naive_rmse':weekly_naive_rmse})"
   ]
  },
  {
   "cell_type": "code",
   "execution_count": 16,
   "metadata": {},
   "outputs": [
    {
     "data": {
      "text/plain": [
       "<AxesSubplot:title={'center':'RMSE'}, xlabel='date'>"
      ]
     },
     "execution_count": 16,
     "metadata": {},
     "output_type": "execute_result"
    },
    {
     "data": {
      "image/png": "[encoded data removed]",
      "text/plain": [
       "<Figure size 1080x720 with 2 Axes>"
      ]
     },
     "metadata": {
      "needs_background": "light"
     },
     "output_type": "display_data"
    }
   ],
   "source": [
    "# Weekly sMAPE and RMSE of XGBoost and naive model\n",
    "fig, axes = plt.subplots(ncols = 2, figsize = (15, 10))\n",
    "weekly.plot(x = 'date', y = ['xgb_smape', 'naive_smape'], ax = axes[0], \n",
    "            color = ['#86BC25', '#000000'], label = ['XGB', 'Naive'], title = 'SMAPE')\n",
    "weekly.plot(x = 'date', y = ['xgb_rmse', 'naive_rmse'], ax = axes[1], \n",
    "            color = ['#86BC25', '#000000'], label = ['XGB', 'Naive'], title = 'RMSE')"
   ]
  }
 ],
 "metadata": {
  "accelerator": "GPU",
  "colab": {
   "collapsed_sections": [],
   "name": "Taxi_MAB_Running_Models.ipynb",
   "provenance": []
  },
  "kernelspec": {
   "display_name": "Python 3",
   "language": "python",
   "name": "python3"
  },
  "language_info": {
   "codemirror_mode": {
    "name": "ipython",
    "version": 3
   },
   "file_extension": ".py",
   "mimetype": "text/x-python",
   "name": "python",
   "nbconvert_exporter": "python",
   "pygments_lexer": "ipython3",
   "version": "3.8.10"
  }
 },
 "nbformat": 4,
 "nbformat_minor": 1
}
