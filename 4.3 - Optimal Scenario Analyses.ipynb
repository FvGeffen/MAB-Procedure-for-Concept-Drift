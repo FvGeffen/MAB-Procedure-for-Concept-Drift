{
 "cells": [
  {
   "cell_type": "markdown",
   "metadata": {},
   "source": [
    "# 4.3 Optimal Scenario Analyses"
   ]
  },
  {
   "cell_type": "markdown",
   "metadata": {},
   "source": [
    "## Preparations"
   ]
  },
  {
   "cell_type": "code",
   "execution_count": 1,
   "metadata": {
    "colab": {
     "base_uri": "https://localhost:8080/"
    },
    "executionInfo": {
     "elapsed": 19119,
     "status": "ok",
     "timestamp": 1626261725738,
     "user": {
      "displayName": "Freek Van Geffen",
      "photoUrl": "",
      "userId": "04628151538599684663"
     },
     "user_tz": -120
    },
    "id": "YHmkHP3HYZZE",
    "outputId": "5f8c7824-21eb-4e32-8c6f-9e25ad72e8bc"
   },
   "outputs": [],
   "source": [
    "import pandas as pd\n",
    "import numpy as np\n",
    "import xgboost as xgb\n",
    "import datetime\n",
    "import random\n",
    "import pickle\n",
    "from sklearn.metrics import mean_squared_error\n",
    "import openpyxl\n",
    "from pathlib import Path\n",
    "from matplotlib import pyplot as plt\n",
    "from matplotlib import cm\n",
    "from matplotlib.colors import LinearSegmentedColormap\n",
    "import seaborn as sns\n",
    "import shap\n",
    "\n",
    "import warnings\n",
    "warnings.filterwarnings('ignore')"
   ]
  },
  {
   "cell_type": "code",
   "execution_count": 2,
   "metadata": {
    "executionInfo": {
     "elapsed": 25942,
     "status": "ok",
     "timestamp": 1626261768847,
     "user": {
      "displayName": "Freek Van Geffen",
      "photoUrl": "",
      "userId": "04628151538599684663"
     },
     "user_tz": -120
    },
    "id": "X_pyxcecYZZI"
   },
   "outputs": [],
   "source": [
    "# Loading and Preparing Taxi Data\n",
    "path = ''\n",
    "df_top20 = pd.read_csv(path+'Data/df_top20.csv')\n",
    "df_complex_complete = pd.DataFrame()\n",
    "\n",
    "for i in df_top20.groupby('PULocationID'):\n",
    "    A = i[1]\n",
    "\n",
    "    df_complex = pd.concat([A['datetime'], A['PULocationID'], \n",
    "                            A['PULocationID'].astype(str)+'-'+A['pickup_day_of_week'].astype(str), \n",
    "                            np.cos((A['pickup_hour']*2*np.pi)/24), np.sin((A['pickup_hour']*2*np.pi)/24), \n",
    "                            np.cos((A['pickup_hour']*2*np.pi)/12),  np.sin((A['pickup_hour']*2*np.pi)/12), A['count'], \n",
    "                            A['count'].shift(1), A['count'].shift(2),A['count'].shift(3), A['count'].shift(4),\n",
    "                            A['count'].shift(5), A['count'].shift(6), A['count'].shift(7), A['count'].shift(8), \n",
    "                            A['count'].shift(9), A['count'].shift(10),A['count'].shift(11), A['count'].shift(12), \n",
    "                            A['count'].shift(13), A['count'].shift(14), A['count'].shift(15), A['count'].shift(16), \n",
    "                            A['count'].shift(17), A['count'].shift(18), A['count'].shift(19), A['count'].shift(20), \n",
    "                            A['count'].shift(21), A['count'].shift(22),   A['count'].shift(23), A['count'].shift(24), \n",
    "                            A['count'].shift(168), A['count'].shift(336), A['count'].shift(504), A['count'].shift(672)], \n",
    "                           axis = 1)\n",
    "\n",
    "    df_complex.columns = ['datetime', 'PULocationID', 'categorical', 'cos_hour', 'sin_hour', 'cos_month', 'sin_month', \n",
    "                          'y', 'y-1', 'y-2', 'y-3', 'y-4','y-5', 'y-6', 'y-7', 'y-8', 'y-9', 'y-10', 'y-11', 'y-12',\n",
    "                          'y-13', 'y-14', 'y-15', 'y-16','y-17', 'y-18', 'y-19', 'y-20','y-21', 'y-22', 'y-23', 'y-24', \n",
    "                          'y-1w', 'y-2w', 'y-3w', 'y-4w']\n",
    "    df_complex_complete = df_complex_complete.append(df_complex, ignore_index = True) \n",
    "\n",
    "df_final = df_complex_complete.join(pd.get_dummies(df_complex_complete['categorical'])).dropna()\n",
    "df_final.sort_values(['PULocationID', 'datetime'], inplace = True)"
   ]
  },
  {
   "cell_type": "code",
   "execution_count": 3,
   "metadata": {
    "executionInfo": {
     "elapsed": 10,
     "status": "ok",
     "timestamp": 1626261768850,
     "user": {
      "displayName": "Freek Van Geffen",
      "photoUrl": "",
      "userId": "04628151538599684663"
     },
     "user_tz": -120
    },
    "id": "3bZbyuW4YZZK"
   },
   "outputs": [],
   "source": [
    "# Metrics\n",
    "def smape(actual, forecast):\n",
    "    actual = np.array(actual)\n",
    "    forecast = np.array(forecast)\n",
    "    return 1/len(actual) * np.sum(2 * np.abs(forecast-actual) / (np.abs(actual) + np.abs(forecast))*100)\n",
    "\n",
    "def rmse(actual, forecast):\n",
    "    actual = np.array(actual)\n",
    "    forecast = np.array(forecast)\n",
    "    return(np.sqrt(mean_squared_error(actual,forecast)))"
   ]
  },
  {
   "cell_type": "code",
   "execution_count": 4,
   "metadata": {
    "executionInfo": {
     "elapsed": 6,
     "status": "ok",
     "timestamp": 1626261768850,
     "user": {
      "displayName": "Freek Van Geffen",
      "photoUrl": "",
      "userId": "04628151538599684663"
     },
     "user_tz": -120
    },
    "id": "J6maSfv-YZZP"
   },
   "outputs": [],
   "source": [
    "# XGBoost\n",
    "params = [0.06759574377750831,82,8,3.247253370691017, 0.04770505824520567,0.6854091260991332, 0.8344206263318037]"
   ]
  },
  {
   "cell_type": "code",
   "execution_count": 5,
   "metadata": {
    "executionInfo": {
     "elapsed": 6,
     "status": "ok",
     "timestamp": 1626261768851,
     "user": {
      "displayName": "Freek Van Geffen",
      "photoUrl": "",
      "userId": "04628151538599684663"
     },
     "user_tz": -120
    },
    "id": "7lrWo9j2q2S-"
   },
   "outputs": [],
   "source": [
    "# prediction models\n",
    "def naive(X):\n",
    "    return X['y-1']\n",
    "\n",
    "def xgboost(X):\n",
    "    return xgb_model.predict(X.values.reshape(1,172), validate_features = False)[0]"
   ]
  },
  {
   "cell_type": "code",
   "execution_count": 6,
   "metadata": {
    "executionInfo": {
     "elapsed": 6,
     "status": "ok",
     "timestamp": 1626261768851,
     "user": {
      "displayName": "Freek Van Geffen",
      "photoUrl": "",
      "userId": "04628151538599684663"
     },
     "user_tz": -120
    },
    "id": "bRFAxapFq2S_"
   },
   "outputs": [],
   "source": [
    "# MAB Procedure\n",
    "class MAB(object):\n",
    "    \"\"\"Base selector\n",
    "    \n",
    "    Args:\n",
    "        models (dict): a dictionary of models from which the selector must choose at every\n",
    "            call to ``select``.\n",
    "        learning_strategy (func): a funct that represents the learning strategy utilized\n",
    "            by the selector at every call to ``select``.\n",
    "    \"\"\"\n",
    "    def __init__(self, models, learning_strategy):\n",
    "        self.models = models\n",
    "        self.ls = learning_strategy\n",
    "        self.scores = dict.fromkeys(models.keys(), [1])\n",
    "        self.history_model = []\n",
    "        self.history_score = []\n",
    "        self.history_pred = []\n",
    "        self.history_y = []\n",
    "        \n",
    "        # change for zone specifity\n",
    "        self.zone = [9999]\n",
    "\n",
    "    def select(self, **kwargs):\n",
    "        return max(self.scores, key=lambda i: self.ls([i, self.scores[i], self.history_model], **kwargs))\n",
    "        \n",
    "    def procedure(self, series, **kwargs):\n",
    "        self.zone.append(series.loc['PULocationID'])\n",
    "        X = series.iloc[~series.index.isin(['y', 'datetime', 'PULocationID', 'categorical'])]\n",
    "        y = series['y']\n",
    "        \n",
    "        if self.zone[-1] != self.zone[-2]:\n",
    "            self.scores = dict.fromkeys(models.keys(), [1])\n",
    "        \n",
    "        random_number = random.random()\n",
    "        model = self.select(random_number = random_number, **kwargs)\n",
    "        pred = max(0, self.models[model](X))\n",
    "        percentage_error = np.abs(y-pred)/y\n",
    "        percentage_accur = 1 - percentage_error\n",
    "        self.scores[model] = self.scores[model] + [percentage_accur]\n",
    "        \n",
    "        self.history_model.append(model)\n",
    "        self.history_pred.append(pred)\n",
    "        self.history_score.append(percentage_accur)\n",
    "        self.history_y.append(y)\n",
    "        \n",
    "    def execute(self, df, **kwargs):\n",
    "        df.apply(self.procedure, **kwargs, axis = 1)"
   ]
  },
  {
   "cell_type": "code",
   "execution_count": 10,
   "metadata": {
    "executionInfo": {
     "elapsed": 6,
     "status": "ok",
     "timestamp": 1626261769168,
     "user": {
      "displayName": "Freek Van Geffen",
      "photoUrl": "",
      "userId": "04628151538599684663"
     },
     "user_tz": -120
    },
    "id": "rmqUfmpNFz9b"
   },
   "outputs": [],
   "source": [
    "# Strategies for one of the models only\n",
    "def ls_xgboost(list, random_number):\n",
    "    if list[0] == 'xgb':\n",
    "        return 1\n",
    "    else:\n",
    "        return 0\n",
    "    \n",
    "def ls_naive(list, random_number):\n",
    "    if list[0] == 'naive':\n",
    "        return 1\n",
    "    else:\n",
    "        return 0\n",
    "\n",
    "# learning strategies\n",
    "## Epsilon-greedy\n",
    "def epsg(list, random_number, epsilon = 0.15, epoch_length = 168):\n",
    "    if (random_number <= epsilon):\n",
    "        r = random.random()\n",
    "        return r\n",
    "    \n",
    "    else:\n",
    "        model = list[0]\n",
    "        score_list = list[1]\n",
    "        history_models = list[2]\n",
    "        \n",
    "        epoch = (len(history_models)) % epoch_length\n",
    "        if epoch == 0:\n",
    "            epoch = epoch_length\n",
    "        occurence = history_models[-epoch:].count(model)\n",
    "        epoch_mean = np.mean(score_list[-occurence:])\n",
    "        \n",
    "        return epoch_mean\n",
    "\n",
    "## Upper Confidence Boundary\n",
    "def ucb(list, random_number, alpha = 0.5, sw_length = 168):\n",
    "    model = list[0]\n",
    "    score_list = list[1]\n",
    "    history_models = list[2]\n",
    "\n",
    "    N = max(history_models[-sw_length:].count(model), 1)\n",
    "    average_accuracy = np.mean(score_list[-N:])\n",
    "    v = len(history_models)\n",
    "    \n",
    "    padding = np.sqrt(alpha * np.log(min(v, sw_length)) / N)\n",
    "    return average_accuracy + padding"
   ]
  },
  {
   "cell_type": "code",
   "execution_count": 15,
   "metadata": {},
   "outputs": [],
   "source": [
    "# Custom Colour Map\n",
    "R = np.linspace(0, .5234375)\n",
    "G = np.linspace(0, .734375)\n",
    "B = np.linspace(0, .14453125)\n",
    "x = np.linspace(0, 1)\n",
    "\n",
    "red_list = []\n",
    "green_list = []\n",
    "blue_list = []\n",
    "for i in range(len(R)):\n",
    "    red_list.append((x[i], R[i], R[i]))\n",
    "    green_list.append((x[i], G[i], G[i]))\n",
    "    blue_list.append((x[i], B[i], B[i]))\n",
    "\n",
    "red_tuple = tuple(red_list)\n",
    "green_tuple = tuple(green_list)\n",
    "blue_tuple = tuple(blue_list)\n",
    "\n",
    "cdict = {'red': red_tuple, 'green': green_tuple, 'blue':blue_tuple}\n",
    "cdict = LinearSegmentedColormap('cdict', cdict)\n",
    "\n",
    "R = np.linspace(.5234375, 0)\n",
    "G = np.linspace(.734375, 0)\n",
    "B = np.linspace(.14453125, 0)\n",
    "x = np.linspace(0, 1)\n",
    "\n",
    "red_list = []\n",
    "green_list = []\n",
    "blue_list = []\n",
    "for i in range(len(R)):\n",
    "    red_list.append((x[i], R[i], R[i]))\n",
    "    green_list.append((x[i], G[i], G[i]))\n",
    "    blue_list.append((x[i], B[i], B[i]))\n",
    "\n",
    "red_tuple = tuple(red_list)\n",
    "green_tuple = tuple(green_list)\n",
    "blue_tuple = tuple(blue_list)\n",
    "\n",
    "cdict_r = {'red': red_tuple, 'green': green_tuple, 'blue':blue_tuple}\n",
    "cdict_r = LinearSegmentedColormap('cdict_r', cdict_r)"
   ]
  },
  {
   "cell_type": "code",
   "execution_count": 16,
   "metadata": {
    "executionInfo": {
     "elapsed": 6,
     "status": "ok",
     "timestamp": 1626261769170,
     "user": {
      "displayName": "Freek Van Geffen",
      "photoUrl": "",
      "userId": "04628151538599684663"
     },
     "user_tz": -120
    },
    "id": "NcItrKXhqaQR"
   },
   "outputs": [],
   "source": [
    "# Diebold-Mariano Test\n",
    "# Author   : John Tsang\n",
    "# Date     : December 7th, 2017\n",
    "# Purpose  : Implement the Diebold-Mariano Test (DM test) to compare \n",
    "#            forecast accuracy\n",
    "# Input    : 1) actual_lst: the list of actual values\n",
    "#            2) pred1_lst : the first list of predicted values\n",
    "#            3) pred2_lst : the second list of predicted values\n",
    "#            4) h         : the number of stpes ahead\n",
    "#            5) crit      : a string specifying the criterion \n",
    "#                             i)  MSE : the mean squared error\n",
    "#                            ii)  MAD : the mean absolute deviation\n",
    "#                           iii) MAPE : the mean absolute percentage error\n",
    "#                            iv) poly : use power function to weigh the errors\n",
    "#            6) poly      : the power for crit power \n",
    "#                           (it is only meaningful when crit is \"poly\")\n",
    "# Condition: 1) length of actual_lst, pred1_lst and pred2_lst is equal\n",
    "#            2) h must be an integer and it must be greater than 0 and less than \n",
    "#               the length of actual_lst.\n",
    "#            3) crit must take the 4 values specified in Input\n",
    "#            4) Each value of actual_lst, pred1_lst and pred2_lst must\n",
    "#               be numerical values. Missing values will not be accepted.\n",
    "#            5) power must be a numerical value.\n",
    "# Return   : a named-tuple of 2 elements\n",
    "#            1) p_value : the p-value of the DM test\n",
    "#            2) DM      : the test statistics of the DM test\n",
    "##########################################################\n",
    "# References:\n",
    "#\n",
    "# Harvey, D., Leybourne, S., & Newbold, P. (1997). Testing the equality of \n",
    "#   prediction mean squared errors. International Journal of forecasting, \n",
    "#   13(2), 281-291.\n",
    "#\n",
    "# Diebold, F. X. and Mariano, R. S. (1995), Comparing predictive accuracy, \n",
    "#   Journal of business & economic statistics 13(3), 253-264.\n",
    "#\n",
    "##########################################################\n",
    "def dm_test(actual_lst, pred1_lst, pred2_lst, h = 1, crit=\"MSE\", power = 2):\n",
    "    # Routine for checking errors\n",
    "    def error_check():\n",
    "        rt = 0\n",
    "        msg = \"\"\n",
    "        # Check if h is an integer\n",
    "        if (not isinstance(h, int)):\n",
    "            rt = -1\n",
    "            msg = \"The type of the number of steps ahead (h) is not an integer.\"\n",
    "            return (rt,msg)\n",
    "        # Check the range of h\n",
    "        if (h < 1):\n",
    "            rt = -1\n",
    "            msg = \"The number of steps ahead (h) is not large enough.\"\n",
    "            return (rt,msg)\n",
    "        len_act = len(actual_lst)\n",
    "        len_p1  = len(pred1_lst)\n",
    "        len_p2  = len(pred2_lst)\n",
    "        # Check if lengths of actual values and predicted values are equal\n",
    "        if (len_act != len_p1 or len_p1 != len_p2 or len_act != len_p2):\n",
    "            rt = -1\n",
    "            msg = \"Lengths of actual_lst, pred1_lst and pred2_lst do not match.\"\n",
    "            return (rt,msg)\n",
    "        # Check range of h\n",
    "        if (h >= len_act):\n",
    "            rt = -1\n",
    "            msg = \"The number of steps ahead is too large.\"\n",
    "            return (rt,msg)\n",
    "        # Check if criterion supported\n",
    "        if (crit != \"MSE\" and crit != \"MAPE\" and crit != \"MAD\" and crit != \"poly\"):\n",
    "            rt = -1\n",
    "            msg = \"The criterion is not supported.\"\n",
    "            return (rt,msg)  \n",
    "        # Check if every value of the input lists are numerical values\n",
    "        from re import compile as re_compile\n",
    "        comp = re_compile(\"^\\d+?\\.\\d+?$\")  \n",
    "        def compiled_regex(s):\n",
    "            \"\"\" Returns True is string is a number. \"\"\"\n",
    "            if comp.match(s) is None:\n",
    "                return s.isdigit()\n",
    "            return True\n",
    "        for actual, pred1, pred2 in zip(actual_lst, pred1_lst, pred2_lst):\n",
    "            is_actual_ok = compiled_regex(str(abs(actual)))\n",
    "            is_pred1_ok = compiled_regex(str(abs(pred1)))\n",
    "            is_pred2_ok = compiled_regex(str(abs(pred2)))\n",
    "            if (not (is_actual_ok and is_pred1_ok and is_pred2_ok)):  \n",
    "                msg = \"An element in the actual_lst, pred1_lst or pred2_lst is not numeric.\"\n",
    "                rt = -1\n",
    "                return (rt,msg)\n",
    "        return (rt,msg)\n",
    "    \n",
    "    # Error check\n",
    "    error_code = error_check()\n",
    "    # Raise error if cannot pass error check\n",
    "    if (error_code[0] == -1):\n",
    "        raise SyntaxError(error_code[1])\n",
    "        return\n",
    "    # Import libraries\n",
    "    from scipy.stats import t\n",
    "    import collections\n",
    "    import pandas as pd\n",
    "    import numpy as np\n",
    "    \n",
    "    # Initialise lists\n",
    "    e1_lst = []\n",
    "    e2_lst = []\n",
    "    d_lst  = []\n",
    "    \n",
    "    # convert every value of the lists into real values\n",
    "    actual_lst = pd.Series(actual_lst).apply(lambda x: float(x)).tolist()\n",
    "    pred1_lst = pd.Series(pred1_lst).apply(lambda x: float(x)).tolist()\n",
    "    pred2_lst = pd.Series(pred2_lst).apply(lambda x: float(x)).tolist()\n",
    "    \n",
    "    # Length of lists (as real numbers)\n",
    "    T = float(len(actual_lst))\n",
    "    \n",
    "    # construct d according to crit\n",
    "    if (crit == \"MSE\"):\n",
    "        for actual,p1,p2 in zip(actual_lst,pred1_lst,pred2_lst):\n",
    "            e1_lst.append((actual - p1)**2)\n",
    "            e2_lst.append((actual - p2)**2)\n",
    "        for e1, e2 in zip(e1_lst, e2_lst):\n",
    "            d_lst.append(e1 - e2)\n",
    "    elif (crit == \"MAD\"):\n",
    "        for actual,p1,p2 in zip(actual_lst,pred1_lst,pred2_lst):\n",
    "            e1_lst.append(abs(actual - p1))\n",
    "            e2_lst.append(abs(actual - p2))\n",
    "        for e1, e2 in zip(e1_lst, e2_lst):\n",
    "            d_lst.append(e1 - e2)\n",
    "    elif (crit == \"MAPE\"):\n",
    "        for actual,p1,p2 in zip(actual_lst,pred1_lst,pred2_lst):\n",
    "            e1_lst.append(abs((actual - p1)/actual))\n",
    "            e2_lst.append(abs((actual - p2)/actual))\n",
    "        for e1, e2 in zip(e1_lst, e2_lst):\n",
    "            d_lst.append(e1 - e2)\n",
    "    elif (crit == \"poly\"):\n",
    "        for actual,p1,p2 in zip(actual_lst,pred1_lst,pred2_lst):\n",
    "            e1_lst.append(((actual - p1))**(power))\n",
    "            e2_lst.append(((actual - p2))**(power))\n",
    "        for e1, e2 in zip(e1_lst, e2_lst):\n",
    "            d_lst.append(e1 - e2)    \n",
    "    \n",
    "    # Mean of d        \n",
    "    mean_d = pd.Series(d_lst).mean()\n",
    "    \n",
    "    # Find autocovariance and construct DM test statistics\n",
    "    def autocovariance(Xi, N, k, Xs):\n",
    "        autoCov = 0\n",
    "        T = float(N)\n",
    "        for i in np.arange(0, N-k):\n",
    "              autoCov += ((Xi[i+k])-Xs)*(Xi[i]-Xs)\n",
    "        return (1/(T))*autoCov\n",
    "    gamma = []\n",
    "    for lag in range(0,h):\n",
    "        gamma.append(autocovariance(d_lst,len(d_lst),lag,mean_d)) # 0, 1, 2\n",
    "    V_d = (gamma[0] + 2*sum(gamma[1:]))/T\n",
    "    DM_stat=V_d**(-0.5)*mean_d\n",
    "    harvey_adj=((T+1-2*h+h*(h-1)/T)/T)**(0.5)\n",
    "    DM_stat = harvey_adj*DM_stat\n",
    "    # Find p-value\n",
    "    p_value = 2*t.cdf(-abs(DM_stat), df = T - 1)\n",
    "    \n",
    "    # Construct named tuple for return\n",
    "    dm_return = collections.namedtuple('dm_return', 'DM p_value')\n",
    "    \n",
    "    rt = dm_return(DM = DM_stat, p_value = p_value)\n",
    "    \n",
    "    return rt"
   ]
  },
  {
   "cell_type": "code",
   "execution_count": 11,
   "metadata": {
    "executionInfo": {
     "elapsed": 6364,
     "status": "ok",
     "timestamp": 1626261775530,
     "user": {
      "displayName": "Freek Van Geffen",
      "photoUrl": "",
      "userId": "04628151538599684663"
     },
     "user_tz": -120
    },
    "id": "_gu2Zb922ogm"
   },
   "outputs": [],
   "source": [
    "xgb_only = pickle.load(open(path+\"Results/xgb_only.dat\", \"rb\"))\n",
    "naive_only = pickle.load(open(path+\"Results/naive_only.dat\", \"rb\"))"
   ]
  },
  {
   "cell_type": "code",
   "execution_count": 13,
   "metadata": {
    "executionInfo": {
     "elapsed": 30415,
     "status": "ok",
     "timestamp": 1626261805939,
     "user": {
      "displayName": "Freek Van Geffen",
      "photoUrl": "",
      "userId": "04628151538599684663"
     },
     "user_tz": -120
    },
    "id": "KTufnP9KJXaZ"
   },
   "outputs": [],
   "source": [
    "df_test = df_final[(df_final['datetime']>'2010-12-31 23:00:00')]\n",
    "df_test = df_test[['datetime', 'PULocationID', 'categorical', 'y']]\n",
    "df_test['datetime'] = pd.to_datetime(df_test['datetime'])\n",
    "df_test['year'] = pd.to_numeric(df_test['datetime'].dt.strftime('%Y'))\n",
    "df_test['doy'] = pd.to_numeric(df_test['datetime'].dt.strftime('%j'))\n",
    "df_test['woy'] = pd.to_numeric(df_test['datetime'].dt.strftime('%W'))\n",
    "\n",
    "xgb_preds = []\n",
    "naive_preds = []\n",
    "\n",
    "for i in range(len(xgb_only)):\n",
    "    xgb_year_preds = xgb_only[i].history_pred\n",
    "    naive_year_preds = naive_only[i].history_pred\n",
    "    xgb_preds.append(xgb_year_preds)\n",
    "    naive_preds.append(naive_year_preds)\n",
    "\n",
    "df_test.sort_values(['year', 'PULocationID', 'datetime'], inplace = True)\n",
    "df_test['xgb'] = [item for elem in xgb_preds for item in elem]\n",
    "df_test['naive'] = [item for elem in naive_preds for item in elem]"
   ]
  },
  {
   "cell_type": "markdown",
   "metadata": {},
   "source": [
    "## Switching Behaviour"
   ]
  },
  {
   "cell_type": "code",
   "execution_count": 24,
   "metadata": {
    "colab": {
     "base_uri": "https://localhost:8080/",
     "height": 305
    },
    "executionInfo": {
     "elapsed": 2777,
     "status": "ok",
     "timestamp": 1625670275552,
     "user": {
      "displayName": "Freek Van Geffen",
      "photoUrl": "",
      "userId": "04628151538599684663"
     },
     "user_tz": -120
    },
    "id": "eWRmD2_bVdUf",
    "outputId": "489888fa-b7ed-431e-b007-a8df9a5229fb"
   },
   "outputs": [
    {
     "data": {
      "text/plain": [
       "[Text(0.5, 15.0, 'Day of the Year'), Text(33.0, 0.5, 'Taxi Zone')]"
      ]
     },
     "execution_count": 24,
     "metadata": {},
     "output_type": "execute_result"
    },
    {
     "data": {
      "image/png": "[encoded data removed]",
      "text/plain": [
       "<Figure size 432x288 with 1 Axes>"
      ]
     },
     "metadata": {
      "needs_background": "light"
     },
     "output_type": "display_data"
    }
   ],
   "source": [
    "smape_naive_only = []\n",
    "smape_xgb_only = []\n",
    "location = []\n",
    "doy = []\n",
    "for title, group in df_test[df_test['year']==2011].groupby(['PULocationID', 'doy']):\n",
    "    location.append(title[0])\n",
    "    doy.append(title[1])\n",
    "    smape_naive_only.append(smape(group['y'],group['naive']))\n",
    "    smape_xgb_only.append(smape(group['y'],group['xgb']))\n",
    "\n",
    "naive_best = [i for i in range(len(smape_naive_only)) if smape_naive_only[i] < smape_xgb_only[i]]\n",
    "location_naive_best = [location[j] for j in naive_best]\n",
    "doy_naive_best = [doy[j] for j in naive_best]\n",
    "naive_best_loc_doy_smape = [str(location_naive_best[j])+' '+str(doy_naive_best[j]) for j in range(len(location_naive_best))]\n",
    "\n",
    "rows = np.unique(location)\n",
    "cols = np.unique(doy)\n",
    "data_heatmap = pd.DataFrame(0, index = rows, columns = cols)\n",
    "\n",
    "for i in range(len(location)):\n",
    "    if str(location[i])+' '+str(doy[i]) in naive_best_loc_doy_smape:\n",
    "        data_heatmap.loc[location[i], doy[i]] = 1\n",
    "\n",
    "custom_cmap = cm.colors.ListedColormap(['#86BC25', '#000000'])\n",
    "\n",
    "ax = sns.heatmap(data_heatmap, cbar = False, cmap = cdict_r)\n",
    "ax.set(xlabel = 'Day of the Year', ylabel = 'Taxi Zone')"
   ]
  },
  {
   "cell_type": "code",
   "execution_count": 23,
   "metadata": {
    "colab": {
     "base_uri": "https://localhost:8080/",
     "height": 305
    },
    "executionInfo": {
     "elapsed": 5207,
     "status": "ok",
     "timestamp": 1625670401198,
     "user": {
      "displayName": "Freek Van Geffen",
      "photoUrl": "",
      "userId": "04628151538599684663"
     },
     "user_tz": -120
    },
    "id": "4y2KwUJ-t123",
    "outputId": "bec9381b-bd84-408a-c8e2-15e0c0303418"
   },
   "outputs": [
    {
     "data": {
      "text/plain": [
       "[Text(0.5, 15.0, 'Day of the Year'), Text(33.0, 0.5, 'Taxi Zone')]"
      ]
     },
     "execution_count": 23,
     "metadata": {},
     "output_type": "execute_result"
    },
    {
     "data": {
      "image/png": "[encoded data removed]",
      "text/plain": [
       "<Figure size 432x288 with 1 Axes>"
      ]
     },
     "metadata": {
      "needs_background": "light"
     },
     "output_type": "display_data"
    }
   ],
   "source": [
    "rmse_naive_only = []\n",
    "rmse_xgb_only = []\n",
    "location = []\n",
    "doy = []\n",
    "for title, group in df_test[df_test['year']==2011].groupby(['PULocationID', 'doy']):\n",
    "    location.append(title[0])\n",
    "    doy.append(title[1])\n",
    "    rmse_naive_only.append(rmse(group['y'],group['naive']))\n",
    "    rmse_xgb_only.append(rmse(group['y'],group['xgb']))\n",
    "\n",
    "naive_best = [i for i in range(len(rmse_naive_only)) if rmse_naive_only[i] < rmse_xgb_only[i]]\n",
    "location_naive_best = [location[j] for j in naive_best]\n",
    "doy_naive_best = [doy[j] for j in naive_best]\n",
    "naive_best_loc_doy_rmse = [str(location_naive_best[j])+' '+str(doy_naive_best[j]) for j in range(len(location_naive_best))]\n",
    "\n",
    "rows = np.unique(location)\n",
    "cols = np.unique(doy)\n",
    "data_heatmap_rmse = pd.DataFrame(0, index = rows, columns = cols)\n",
    "\n",
    "for i in range(len(location)):\n",
    "    if str(location[i])+' '+str(doy[i]) in naive_best_loc_doy_rmse:\n",
    "        data_heatmap_rmse.loc[location[i], doy[i]] = 1\n",
    "\n",
    "custom_cmap = cm.colors.ListedColormap(['#86BC25', '#000000'])\n",
    "\n",
    "ax = sns.heatmap(data_heatmap_rmse, cbar = False, cmap = cdict_r)\n",
    "ax.set(xlabel = 'Day of the Year', ylabel = 'Taxi Zone')"
   ]
  },
  {
   "cell_type": "code",
   "execution_count": 19,
   "metadata": {
    "id": "H86vs6yJiwXR"
   },
   "outputs": [],
   "source": [
    "df_year = df_test[df_test['year']==2011]\n",
    "df_naive_better = df_year[df_year['PULocationID'].astype(str).str.cat(df_year['doy'].astype(str), sep = ' ').isin(naive_best_loc_doy_smape)]\n",
    "pred_optimal_smape = []\n",
    "\n",
    "for i in range(len(df_year)):\n",
    "    if df_year.index[i] in df_naive_better.index:\n",
    "        pred_optimal_smape.append(df_year['naive'].values[i])\n",
    "  \n",
    "    else:\n",
    "        pred_optimal_smape.append(df_year['xgb'].values[i])"
   ]
  },
  {
   "cell_type": "code",
   "execution_count": 20,
   "metadata": {
    "id": "qz08mEk3AlV-"
   },
   "outputs": [],
   "source": [
    "df_year = df_test[df_test['year']==2011]\n",
    "df_naive_better = df_year[df_year['PULocationID'].astype(str).str.cat(df_year['doy'].astype(str), sep = ' ').isin(naive_best_loc_doy_rmse)]\n",
    "pred_optimal_rmse = []\n",
    "\n",
    "for i in range(len(df_year)):\n",
    "    if df_year.index[i] in df_naive_better.index:\n",
    "        pred_optimal_rmse.append(df_year['naive'].values[i])\n",
    "  \n",
    "    else:\n",
    "        pred_optimal_rmse.append(df_year['xgb'].values[i])"
   ]
  },
  {
   "cell_type": "code",
   "execution_count": 21,
   "metadata": {
    "colab": {
     "base_uri": "https://localhost:8080/"
    },
    "executionInfo": {
     "elapsed": 8,
     "status": "ok",
     "timestamp": 1624371016646,
     "user": {
      "displayName": "Freek Van Geffen",
      "photoUrl": "",
      "userId": "04628151538599684663"
     },
     "user_tz": -120
    },
    "id": "am7aX8xHjbmw",
    "outputId": "412091f7-e3da-40b1-8aad-bc42be97c271"
   },
   "outputs": [
    {
     "name": "stdout",
     "output_type": "stream",
     "text": [
      "10.527785469128105\n",
      "70.53840850196416\n",
      "10.56077193229273\n",
      "70.3707451990412\n"
     ]
    }
   ],
   "source": [
    "print(smape(df_year['y'], pred_optimal_smape))\n",
    "print(rmse(df_year['y'], pred_optimal_smape))\n",
    "print(smape(df_year['y'], pred_optimal_rmse))\n",
    "print(rmse(df_year['y'], pred_optimal_rmse))"
   ]
  },
  {
   "cell_type": "code",
   "execution_count": 29,
   "metadata": {
    "colab": {
     "base_uri": "https://localhost:8080/",
     "height": 345
    },
    "executionInfo": {
     "elapsed": 729,
     "status": "ok",
     "timestamp": 1624371017370,
     "user": {
      "displayName": "Freek Van Geffen",
      "photoUrl": "",
      "userId": "04628151538599684663"
     },
     "user_tz": -120
    },
    "id": "vK-wTK08uuHU",
    "outputId": "52a81b3c-f711-4a5d-d59d-badf666d0ebd"
   },
   "outputs": [
    {
     "data": {
      "text/html": [
       "<div>\n",
       "<style scoped>\n",
       "    .dataframe tbody tr th:only-of-type {\n",
       "        vertical-align: middle;\n",
       "    }\n",
       "\n",
       "    .dataframe tbody tr th {\n",
       "        vertical-align: top;\n",
       "    }\n",
       "\n",
       "    .dataframe thead th {\n",
       "        text-align: right;\n",
       "    }\n",
       "</style>\n",
       "<table border=\"1\" class=\"dataframe\">\n",
       "  <thead>\n",
       "    <tr style=\"text-align: right;\">\n",
       "      <th></th>\n",
       "      <th>1</th>\n",
       "      <th>239</th>\n",
       "      <th>240</th>\n",
       "      <th>328</th>\n",
       "      <th>27</th>\n",
       "      <th>241</th>\n",
       "      <th>233</th>\n",
       "      <th>226</th>\n",
       "      <th>359</th>\n",
       "      <th>2</th>\n",
       "      <th>...</th>\n",
       "      <th>119</th>\n",
       "      <th>127</th>\n",
       "      <th>126</th>\n",
       "      <th>125</th>\n",
       "      <th>124</th>\n",
       "      <th>123</th>\n",
       "      <th>122</th>\n",
       "      <th>121</th>\n",
       "      <th>120</th>\n",
       "      <th>365</th>\n",
       "    </tr>\n",
       "  </thead>\n",
       "  <tbody>\n",
       "    <tr>\n",
       "      <th>count</th>\n",
       "      <td>20.0</td>\n",
       "      <td>20.0</td>\n",
       "      <td>20.0</td>\n",
       "      <td>20.000000</td>\n",
       "      <td>20.000000</td>\n",
       "      <td>20.000000</td>\n",
       "      <td>20.000000</td>\n",
       "      <td>20.000000</td>\n",
       "      <td>20.000000</td>\n",
       "      <td>20.000000</td>\n",
       "      <td>...</td>\n",
       "      <td>20.0</td>\n",
       "      <td>20.0</td>\n",
       "      <td>20.0</td>\n",
       "      <td>20.0</td>\n",
       "      <td>20.0</td>\n",
       "      <td>20.0</td>\n",
       "      <td>20.0</td>\n",
       "      <td>20.0</td>\n",
       "      <td>20.0</td>\n",
       "      <td>20.0</td>\n",
       "    </tr>\n",
       "    <tr>\n",
       "      <th>mean</th>\n",
       "      <td>1.0</td>\n",
       "      <td>1.0</td>\n",
       "      <td>1.0</td>\n",
       "      <td>0.600000</td>\n",
       "      <td>0.600000</td>\n",
       "      <td>0.550000</td>\n",
       "      <td>0.550000</td>\n",
       "      <td>0.450000</td>\n",
       "      <td>0.400000</td>\n",
       "      <td>0.300000</td>\n",
       "      <td>...</td>\n",
       "      <td>0.0</td>\n",
       "      <td>0.0</td>\n",
       "      <td>0.0</td>\n",
       "      <td>0.0</td>\n",
       "      <td>0.0</td>\n",
       "      <td>0.0</td>\n",
       "      <td>0.0</td>\n",
       "      <td>0.0</td>\n",
       "      <td>0.0</td>\n",
       "      <td>0.0</td>\n",
       "    </tr>\n",
       "    <tr>\n",
       "      <th>std</th>\n",
       "      <td>0.0</td>\n",
       "      <td>0.0</td>\n",
       "      <td>0.0</td>\n",
       "      <td>0.502625</td>\n",
       "      <td>0.502625</td>\n",
       "      <td>0.510418</td>\n",
       "      <td>0.510418</td>\n",
       "      <td>0.510418</td>\n",
       "      <td>0.502625</td>\n",
       "      <td>0.470162</td>\n",
       "      <td>...</td>\n",
       "      <td>0.0</td>\n",
       "      <td>0.0</td>\n",
       "      <td>0.0</td>\n",
       "      <td>0.0</td>\n",
       "      <td>0.0</td>\n",
       "      <td>0.0</td>\n",
       "      <td>0.0</td>\n",
       "      <td>0.0</td>\n",
       "      <td>0.0</td>\n",
       "      <td>0.0</td>\n",
       "    </tr>\n",
       "    <tr>\n",
       "      <th>min</th>\n",
       "      <td>1.0</td>\n",
       "      <td>1.0</td>\n",
       "      <td>1.0</td>\n",
       "      <td>0.000000</td>\n",
       "      <td>0.000000</td>\n",
       "      <td>0.000000</td>\n",
       "      <td>0.000000</td>\n",
       "      <td>0.000000</td>\n",
       "      <td>0.000000</td>\n",
       "      <td>0.000000</td>\n",
       "      <td>...</td>\n",
       "      <td>0.0</td>\n",
       "      <td>0.0</td>\n",
       "      <td>0.0</td>\n",
       "      <td>0.0</td>\n",
       "      <td>0.0</td>\n",
       "      <td>0.0</td>\n",
       "      <td>0.0</td>\n",
       "      <td>0.0</td>\n",
       "      <td>0.0</td>\n",
       "      <td>0.0</td>\n",
       "    </tr>\n",
       "    <tr>\n",
       "      <th>25%</th>\n",
       "      <td>1.0</td>\n",
       "      <td>1.0</td>\n",
       "      <td>1.0</td>\n",
       "      <td>0.000000</td>\n",
       "      <td>0.000000</td>\n",
       "      <td>0.000000</td>\n",
       "      <td>0.000000</td>\n",
       "      <td>0.000000</td>\n",
       "      <td>0.000000</td>\n",
       "      <td>0.000000</td>\n",
       "      <td>...</td>\n",
       "      <td>0.0</td>\n",
       "      <td>0.0</td>\n",
       "      <td>0.0</td>\n",
       "      <td>0.0</td>\n",
       "      <td>0.0</td>\n",
       "      <td>0.0</td>\n",
       "      <td>0.0</td>\n",
       "      <td>0.0</td>\n",
       "      <td>0.0</td>\n",
       "      <td>0.0</td>\n",
       "    </tr>\n",
       "    <tr>\n",
       "      <th>50%</th>\n",
       "      <td>1.0</td>\n",
       "      <td>1.0</td>\n",
       "      <td>1.0</td>\n",
       "      <td>1.000000</td>\n",
       "      <td>1.000000</td>\n",
       "      <td>1.000000</td>\n",
       "      <td>1.000000</td>\n",
       "      <td>0.000000</td>\n",
       "      <td>0.000000</td>\n",
       "      <td>0.000000</td>\n",
       "      <td>...</td>\n",
       "      <td>0.0</td>\n",
       "      <td>0.0</td>\n",
       "      <td>0.0</td>\n",
       "      <td>0.0</td>\n",
       "      <td>0.0</td>\n",
       "      <td>0.0</td>\n",
       "      <td>0.0</td>\n",
       "      <td>0.0</td>\n",
       "      <td>0.0</td>\n",
       "      <td>0.0</td>\n",
       "    </tr>\n",
       "    <tr>\n",
       "      <th>75%</th>\n",
       "      <td>1.0</td>\n",
       "      <td>1.0</td>\n",
       "      <td>1.0</td>\n",
       "      <td>1.000000</td>\n",
       "      <td>1.000000</td>\n",
       "      <td>1.000000</td>\n",
       "      <td>1.000000</td>\n",
       "      <td>1.000000</td>\n",
       "      <td>1.000000</td>\n",
       "      <td>1.000000</td>\n",
       "      <td>...</td>\n",
       "      <td>0.0</td>\n",
       "      <td>0.0</td>\n",
       "      <td>0.0</td>\n",
       "      <td>0.0</td>\n",
       "      <td>0.0</td>\n",
       "      <td>0.0</td>\n",
       "      <td>0.0</td>\n",
       "      <td>0.0</td>\n",
       "      <td>0.0</td>\n",
       "      <td>0.0</td>\n",
       "    </tr>\n",
       "    <tr>\n",
       "      <th>max</th>\n",
       "      <td>1.0</td>\n",
       "      <td>1.0</td>\n",
       "      <td>1.0</td>\n",
       "      <td>1.000000</td>\n",
       "      <td>1.000000</td>\n",
       "      <td>1.000000</td>\n",
       "      <td>1.000000</td>\n",
       "      <td>1.000000</td>\n",
       "      <td>1.000000</td>\n",
       "      <td>1.000000</td>\n",
       "      <td>...</td>\n",
       "      <td>0.0</td>\n",
       "      <td>0.0</td>\n",
       "      <td>0.0</td>\n",
       "      <td>0.0</td>\n",
       "      <td>0.0</td>\n",
       "      <td>0.0</td>\n",
       "      <td>0.0</td>\n",
       "      <td>0.0</td>\n",
       "      <td>0.0</td>\n",
       "      <td>0.0</td>\n",
       "    </tr>\n",
       "  </tbody>\n",
       "</table>\n",
       "<p>8 rows × 365 columns</p>\n",
       "</div>"
      ],
      "text/plain": [
       "        1     239   240        328        27         241        233  \\\n",
       "count  20.0  20.0  20.0  20.000000  20.000000  20.000000  20.000000   \n",
       "mean    1.0   1.0   1.0   0.600000   0.600000   0.550000   0.550000   \n",
       "std     0.0   0.0   0.0   0.502625   0.502625   0.510418   0.510418   \n",
       "min     1.0   1.0   1.0   0.000000   0.000000   0.000000   0.000000   \n",
       "25%     1.0   1.0   1.0   0.000000   0.000000   0.000000   0.000000   \n",
       "50%     1.0   1.0   1.0   1.000000   1.000000   1.000000   1.000000   \n",
       "75%     1.0   1.0   1.0   1.000000   1.000000   1.000000   1.000000   \n",
       "max     1.0   1.0   1.0   1.000000   1.000000   1.000000   1.000000   \n",
       "\n",
       "             226        359        2    ...   119   127   126   125   124  \\\n",
       "count  20.000000  20.000000  20.000000  ...  20.0  20.0  20.0  20.0  20.0   \n",
       "mean    0.450000   0.400000   0.300000  ...   0.0   0.0   0.0   0.0   0.0   \n",
       "std     0.510418   0.502625   0.470162  ...   0.0   0.0   0.0   0.0   0.0   \n",
       "min     0.000000   0.000000   0.000000  ...   0.0   0.0   0.0   0.0   0.0   \n",
       "25%     0.000000   0.000000   0.000000  ...   0.0   0.0   0.0   0.0   0.0   \n",
       "50%     0.000000   0.000000   0.000000  ...   0.0   0.0   0.0   0.0   0.0   \n",
       "75%     1.000000   1.000000   1.000000  ...   0.0   0.0   0.0   0.0   0.0   \n",
       "max     1.000000   1.000000   1.000000  ...   0.0   0.0   0.0   0.0   0.0   \n",
       "\n",
       "        123   122   121   120   365  \n",
       "count  20.0  20.0  20.0  20.0  20.0  \n",
       "mean    0.0   0.0   0.0   0.0   0.0  \n",
       "std     0.0   0.0   0.0   0.0   0.0  \n",
       "min     0.0   0.0   0.0   0.0   0.0  \n",
       "25%     0.0   0.0   0.0   0.0   0.0  \n",
       "50%     0.0   0.0   0.0   0.0   0.0  \n",
       "75%     0.0   0.0   0.0   0.0   0.0  \n",
       "max     0.0   0.0   0.0   0.0   0.0  \n",
       "\n",
       "[8 rows x 365 columns]"
      ]
     },
     "execution_count": 29,
     "metadata": {},
     "output_type": "execute_result"
    }
   ],
   "source": [
    "descriptives_days = data_heatmap.describe()\n",
    "descriptives_days.sort_values('mean', axis = 1, ascending = False)"
   ]
  },
  {
   "cell_type": "code",
   "execution_count": 30,
   "metadata": {
    "colab": {
     "base_uri": "https://localhost:8080/",
     "height": 368
    },
    "executionInfo": {
     "elapsed": 485,
     "status": "ok",
     "timestamp": 1624371018508,
     "user": {
      "displayName": "Freek Van Geffen",
      "photoUrl": "",
      "userId": "04628151538599684663"
     },
     "user_tz": -120
    },
    "id": "EaV1Gyn-k1SD",
    "outputId": "c41810f5-555c-403f-c11a-c9ec08ae9cf5"
   },
   "outputs": [
    {
     "name": "stdout",
     "output_type": "stream",
     "text": [
      "smape xgb on day 239 240 are 59.176780818426195\n",
      "smape naive on day 239 240 are 33.68503695243362\n",
      "rmse xgb on day 239 240 are 68.59796124533295\n",
      "rmse naive on day 239 240 are 49.9005532774067\n"
     ]
    },
    {
     "data": {
      "text/plain": [
       "<AxesSubplot:xlabel='Time', ylabel='Trips'>"
      ]
     },
     "execution_count": 30,
     "metadata": {},
     "output_type": "execute_result"
    },
    {
     "data": {
      "image/png": "[encoded data removed]",
      "text/plain": [
       "<Figure size 432x288 with 1 Axes>"
      ]
     },
     "metadata": {
      "needs_background": "light"
     },
     "output_type": "display_data"
    }
   ],
   "source": [
    "# Hurricane Irene 2011\n",
    "day = 239\n",
    "zone = 237\n",
    "df_year_zone = df_year[(df_year['PULocationID']==zone)]\n",
    "\n",
    "print('smape xgb on day', day, day + 1, 'are', \n",
    "      smape(df_year_zone[(df_year_zone['doy']==day)|(df_year_zone['doy']==day+1)]['y'], \n",
    "            df_year_zone[(df_year_zone['doy']==day)|(df_year_zone['doy']==day+1)]['xgb']))\n",
    "print('smape naive on day', day, day + 1, 'are', \n",
    "      smape(df_year_zone[(df_year_zone['doy']==day)|(df_year_zone['doy']==day+1)]['y'], \n",
    "            df_year_zone[(df_year_zone['doy']==day)|(df_year_zone['doy']==day+1)]['naive']))\n",
    "print('rmse xgb on day', day, day + 1, 'are', \n",
    "      rmse(df_year_zone[(df_year_zone['doy']==day)|(df_year_zone['doy']==day+1)]['y'], \n",
    "           df_year_zone[(df_year_zone['doy']==day)|(df_year_zone['doy']==day+1)]['xgb']))\n",
    "print('rmse naive on day', day, day + 1, 'are', \n",
    "      rmse(df_year_zone[(df_year_zone['doy']==day)|(df_year_zone['doy']==day+1)]['y'], \n",
    "           df_year_zone[(df_year_zone['doy']==day)|(df_year_zone['doy']==day+1)]['naive']))\n",
    "\n",
    "df_year_zone[(df_year_zone['doy']==day)|(df_year_zone['doy']==day+1)].plot(x = 'datetime', \n",
    "                                                                           y = ['y', 'xgb', 'naive'], \n",
    "                                                                           legend = True, xlabel = 'Time', \n",
    "                                                                           ylabel = 'Trips', \n",
    "                                                                           color = ['#0D8390', '#86BC25', '#000000'], \n",
    "                                                                           style = ['-', '-', '-'])"
   ]
  },
  {
   "cell_type": "markdown",
   "metadata": {
    "id": "b2FX2OSDGJuP"
   },
   "source": [
    "## Predictive Performance"
   ]
  },
  {
   "cell_type": "code",
   "execution_count": 31,
   "metadata": {
    "id": "20Ton8WDYXe6"
   },
   "outputs": [],
   "source": [
    "yearly_xgb_smape = []\n",
    "yearly_xgb_rmse = []\n",
    "yearly_naive_smape = []\n",
    "yearly_naive_rmse = []\n",
    "yearly_titles = []\n",
    "for title, group in df_test.groupby(['year']):\n",
    "    yearly_titles.append(title)\n",
    "    yearly_xgb_smape.append(smape(group['xgb'], group['y']))\n",
    "    yearly_xgb_rmse.append(rmse(group['xgb'], group['y']))\n",
    "    yearly_naive_smape.append(smape(group['naive'], group['y']))\n",
    "    yearly_naive_rmse.append(rmse(group['naive'], group['y']))\n",
    "\n",
    "yearly = pd.DataFrame({'date': yearly_titles, \n",
    "                       'xgb_smape':yearly_xgb_smape, \n",
    "                       'naive_smape':yearly_naive_smape, \n",
    "                       'xgb_rmse':yearly_xgb_rmse, \n",
    "                       'naive_rmse':yearly_naive_rmse})"
   ]
  },
  {
   "cell_type": "code",
   "execution_count": 32,
   "metadata": {
    "colab": {
     "base_uri": "https://localhost:8080/"
    },
    "executionInfo": {
     "elapsed": 7,
     "status": "ok",
     "timestamp": 1624971472018,
     "user": {
      "displayName": "Freek Van Geffen",
      "photoUrl": "",
      "userId": "04628151538599684663"
     },
     "user_tz": -120
    },
    "id": "dWgh5EDUYuJj",
    "outputId": "5c9d15ec-93e9-4fb4-99a1-520c93684e0d"
   },
   "outputs": [
    {
     "name": "stdout",
     "output_type": "stream",
     "text": [
      "\\begin{tabular}{rrrrr}\n",
      "\\toprule\n",
      " date &  xgb\\_smape &  naive\\_smape &  xgb\\_rmse &  naive\\_rmse \\\\\n",
      "\\midrule\n",
      " 2011 &      10.81 &        26.20 &     70.78 &      150.49 \\\\\n",
      " 2012 &       9.77 &        26.41 &     67.84 &      153.18 \\\\\n",
      " 2013 &      10.00 &        26.61 &     68.12 &      151.45 \\\\\n",
      " 2014 &      10.03 &        26.18 &     65.43 &      142.40 \\\\\n",
      " 2015 &      10.55 &        26.12 &     61.23 &      126.60 \\\\\n",
      " 2016 &      11.27 &        26.19 &     57.80 &      115.55 \\\\\n",
      " 2017 &      11.61 &        26.60 &     52.00 &      102.05 \\\\\n",
      " 2018 &      11.89 &        27.43 &     47.74 &       94.17 \\\\\n",
      " 2019 &      13.01 &        28.55 &     42.19 &       79.91 \\\\\n",
      " 2020 &      51.26 &        39.01 &     28.71 &       39.17 \\\\\n",
      "\\bottomrule\n",
      "\\end{tabular}\n",
      "\n"
     ]
    }
   ],
   "source": [
    "print(yearly.to_latex( float_format=\"%.2f\", index = False))"
   ]
  },
  {
   "cell_type": "code",
   "execution_count": 33,
   "metadata": {
    "id": "3mflN0tWMq-a"
   },
   "outputs": [
    {
     "name": "stdout",
     "output_type": "stream",
     "text": [
      "14.861623287025488 27.882354085027615\n",
      "57.72512845788117 121.03608074203618\n"
     ]
    }
   ],
   "source": [
    "print(smape(df_test['y'], df_test['xgb']), smape(df_test['y'], df_test['naive']))\n",
    "print(rmse(df_test['y'], df_test['xgb']), rmse(df_test['y'], df_test['naive']))"
   ]
  },
  {
   "cell_type": "code",
   "execution_count": 36,
   "metadata": {
    "colab": {
     "base_uri": "https://localhost:8080/"
    },
    "executionInfo": {
     "elapsed": 3616,
     "status": "ok",
     "timestamp": 1625044001087,
     "user": {
      "displayName": "Freek Van Geffen",
      "photoUrl": "",
      "userId": "04628151538599684663"
     },
     "user_tz": -120
    },
    "id": "sFXXdasDnemj",
    "outputId": "b6e696f4-e407-4754-d74d-525572f1d2e2"
   },
   "outputs": [
    {
     "name": "stdout",
     "output_type": "stream",
     "text": [
      "smape huricane selection 10.604129548804178\n",
      "smape huricane selection 70.68904715964086\n"
     ]
    }
   ],
   "source": [
    "## SMAPE when optimal selection and hurricane not a problem\n",
    "pred_realistic = []\n",
    "models_realistic = []\n",
    "\n",
    "for i in range(len(df_year)):\n",
    "    if (df_year['doy'].iloc[i] == 239) | (df_year['doy'].iloc[i] == 240):\n",
    "        pred_realistic.append(df_year['naive'].values[i])\n",
    "        models_realistic.append('naive')\n",
    "    \n",
    "    else:\n",
    "        pred_realistic.append(df_year['xgb'].values[i])\n",
    "        models_realistic.append('xgb')\n",
    "    \n",
    "print('smape huricane selection', smape(df_year['y'], pred_realistic))\n",
    "print('smape huricane selection', rmse(df_year['y'], pred_realistic))"
   ]
  },
  {
   "cell_type": "code",
   "execution_count": 40,
   "metadata": {},
   "outputs": [],
   "source": [
    "pickle.dump(models_realistic, open(path+'Results/model_hurricane.dat', \"wb\"))\n",
    "pickle.dump(pred_realistic, open(path+'Results/pred_hurricane.dat', \"wb\"))"
   ]
  },
  {
   "cell_type": "code",
   "execution_count": 38,
   "metadata": {
    "colab": {
     "base_uri": "https://localhost:8080/"
    },
    "executionInfo": {
     "elapsed": 6309,
     "status": "ok",
     "timestamp": 1625044240823,
     "user": {
      "displayName": "Freek Van Geffen",
      "photoUrl": "",
      "userId": "04628151538599684663"
     },
     "user_tz": -120
    },
    "id": "JiYjkIon_SA0",
    "outputId": "dd5ff225-f68c-4bdd-d112-cd4a5f7e6d1a"
   },
   "outputs": [
    {
     "name": "stdout",
     "output_type": "stream",
     "text": [
      "XGB vs Hurricane dm_return(DM=3.20647177769196, p_value=0.0013439759972307614)\n",
      "SMAPE vs RMSE dm_return(DM=3.7334605786597073, p_value=0.000188926492946738)\n",
      "SMAPE vs Hurricane dm_return(DM=-3.054665343974819, p_value=0.0022534561642756053)\n",
      "RMSE vs Hurricane dm_return(DM=-6.468492723488502, p_value=9.924462799794281e-11)\n",
      "XGB vs RMSE dm_return(DM=-8.875362564710722, p_value=7.03415853204004e-19)\n",
      "XGB vs SMAPE dm_return(DM=-4.237428121742109, p_value=2.2621019939779265e-05)\n"
     ]
    }
   ],
   "source": [
    "print('XGB vs Hurricane', dm_test(df_year['y'], df_year['xgb'],  pred_realistic))\n",
    "print('SMAPE vs RMSE', dm_test(df_year['y'], pred_optimal_smape,  pred_optimal_rmse))\n",
    "print('SMAPE vs Hurricane', dm_test(df_year['y'], pred_optimal_smape,  pred_realistic))\n",
    "print('RMSE vs Hurricane', dm_test(df_year['y'], pred_optimal_rmse,  pred_realistic))\n",
    "print('XGB vs RMSE', dm_test(df_year['y'], pred_optimal_rmse,  df_year['xgb']))\n",
    "print('XGB vs SMAPE', dm_test(df_year['y'], pred_optimal_smape,  df_year['xgb']))"
   ]
  },
  {
   "cell_type": "code",
   "execution_count": 39,
   "metadata": {
    "colab": {
     "base_uri": "https://localhost:8080/"
    },
    "executionInfo": {
     "elapsed": 1425,
     "status": "ok",
     "timestamp": 1624371027019,
     "user": {
      "displayName": "Freek Van Geffen",
      "photoUrl": "",
      "userId": "04628151538599684663"
     },
     "user_tz": -120
    },
    "id": "OHMMa4DvvYoT",
    "outputId": "02d67d96-afca-43a4-bf69-2fe02b6224e6"
   },
   "outputs": [
    {
     "name": "stdout",
     "output_type": "stream",
     "text": [
      "naive vs xgb 99.99942908362213\n",
      "smape vs xgb 2.1106778490154547\n",
      "rmse vs xgb 1.9599559252556278\n",
      "hurricane vs xgb 0.5349486460718099\n"
     ]
    }
   ],
   "source": [
    "print('naive vs xgb', sum(np.array(df_year['naive']) != np.array(df_year['xgb']))/len(pred_realistic)*100)\n",
    "print('smape vs xgb', sum(np.array(pred_optimal_smape) != np.array(df_year['xgb']))/len(pred_realistic)*100)\n",
    "print('rmse vs xgb', sum(np.array(pred_optimal_rmse) != np.array(df_year['xgb']))/len(pred_realistic)*100)\n",
    "print('hurricane vs xgb', sum(np.array(pred_realistic) != np.array(df_year['xgb']))/len(pred_realistic)*100)"
   ]
  }
 ],
 "metadata": {
  "accelerator": "GPU",
  "colab": {
   "collapsed_sections": [
    "EntWdI7-YZZO",
    "b2FX2OSDGJuP",
    "C6Fgk1Fguf8v",
    "hOsPAYTkduQ5"
   ],
   "name": "Taxi_MAB_Results.ipynb",
   "provenance": []
  },
  "kernelspec": {
   "display_name": "Python 3",
   "language": "python",
   "name": "python3"
  },
  "language_info": {
   "codemirror_mode": {
    "name": "ipython",
    "version": 3
   },
   "file_extension": ".py",
   "mimetype": "text/x-python",
   "name": "python",
   "nbconvert_exporter": "python",
   "pygments_lexer": "ipython3",
   "version": "3.8.10"
  }
 },
 "nbformat": 4,
 "nbformat_minor": 1
}
